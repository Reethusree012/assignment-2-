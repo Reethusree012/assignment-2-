{
  "nbformat": 4,
  "nbformat_minor": 0,
  "metadata": {
    "colab": {
      "name": "Assignment-10. Py",
      "provenance": [],
      "collapsed_sections": [],
      "authorship_tag": "ABX9TyN218KyF+5TOWcOLaXQnjGU",
      "include_colab_link": true
    },
    "kernelspec": {
      "name": "python3",
      "display_name": "Python 3"
    }
  },
  "cells": [
    {
      "cell_type": "markdown",
      "metadata": {
        "id": "view-in-github",
        "colab_type": "text"
      },
      "source": [
        "<a href=\"https://colab.research.google.com/github/Reethusree012/assignment-2-/blob/master/Assignment_10_Py.ipynb\" target=\"_parent\"><img src=\"https://colab.research.google.com/assets/colab-badge.svg\" alt=\"Open In Colab\"/></a>"
      ]
    },
    {
      "cell_type": "markdown",
      "metadata": {
        "id": "YOQ9knRoI_8o",
        "colab_type": "text"
      },
      "source": [
        "1.write a Python program to get the largest & smallest number from a list."
      ]
    },
    {
      "cell_type": "code",
      "metadata": {
        "id": "x9d5mxpMNyAl",
        "colab_type": "code",
        "colab": {
          "base_uri": "https://localhost:8080/",
          "height": 158
        },
        "outputId": "e8b9c22e-34d6-48ef-fde7-184b446be600"
      },
      "source": [
        " NumList = []\n",
        "Number = int(input(\"Please enter the Total Number of List Elements: \"))\n",
        "for i in range(1, Number + 1):\n",
        "    value = int(input(\"Please enter the Value of %d Element : \" %i))\n",
        "    NumList.append(value)\n",
        " \n",
        "NumList.sort()\n",
        " \n",
        "print(\"The Smallest Element in this List is : \", NumList[0])\n",
        "print(\"The Largest Element in this List is : \", NumList[Number - 1])"
      ],
      "execution_count": null,
      "outputs": [
        {
          "output_type": "stream",
          "text": [
            "Please enter the Total Number of List Elements: 4\n",
            "Please enter the Value of 1 Element : 21\n",
            "Please enter the Value of 2 Element : 47\n",
            "Please enter the Value of 3 Element : 89\n",
            "Please enter the Value of 4 Element : 1\n",
            "The Smallest Element in this List is :  1\n",
            "The Largest Element in this List is :  89\n"
          ],
          "name": "stdout"
        }
      ]
    },
    {
      "cell_type": "markdown",
      "metadata": {
        "id": "CPCTp-q6OJ32",
        "colab_type": "text"
      },
      "source": [
        "2.Write a Python program to remove duplicates from a list."
      ]
    },
    {
      "cell_type": "code",
      "metadata": {
        "id": "4G1hDlxERgwH",
        "colab_type": "code",
        "colab": {
          "base_uri": "https://localhost:8080/",
          "height": 34
        },
        "outputId": "179eb329-2f88-411f-810e-99a8c094e748"
      },
      "source": [
        " \n",
        "def Remove(duplicate): \n",
        " \n",
        "    final_list = [] \n",
        " \n",
        "    for num in duplicate: \n",
        " \n",
        "        if num not in final_list: \n",
        " \n",
        "            final_list.append(num) \n",
        " \n",
        "    return final_list\n",
        " \n",
        " \n",
        "duplicate = [2, 4, 10, 20, 5, 2,10,20, 4] \n",
        " \n",
        "print(Remove(duplicate))"
      ],
      "execution_count": null,
      "outputs": [
        {
          "output_type": "stream",
          "text": [
            "[2, 4, 10, 20, 5]\n"
          ],
          "name": "stdout"
        }
      ]
    },
    {
      "cell_type": "markdown",
      "metadata": {
        "id": "1Rq9D4m_UXi-",
        "colab_type": "text"
      },
      "source": [
        "3.Write a Python program to check a list is empty or not."
      ]
    },
    {
      "cell_type": "code",
      "metadata": {
        "id": "8nJLCgDFUZ-o",
        "colab_type": "code",
        "colab": {
          "base_uri": "https://localhost:8080/",
          "height": 34
        },
        "outputId": "930b412f-a7ce-4882-dd0e-aa3dc253784e"
      },
      "source": [
        " \n",
        "list_of_num=[\"1,2,3\"]\n",
        "if not list_of_num:\n",
        "    print('List is empty')\n",
        "else:\n",
        "    print('List is not empty')"
      ],
      "execution_count": null,
      "outputs": [
        {
          "output_type": "stream",
          "text": [
            "List is not empty\n"
          ],
          "name": "stdout"
        }
      ]
    },
    {
      "cell_type": "markdown",
      "metadata": {
        "id": "Bcgj5k15VjDs",
        "colab_type": "text"
      },
      "source": [
        "4.Write a Python program to clone or copy a list."
      ]
    },
    {
      "cell_type": "code",
      "metadata": {
        "id": "QP_-1f5TVsIW",
        "colab_type": "code",
        "colab": {
          "base_uri": "https://localhost:8080/",
          "height": 51
        },
        "outputId": "82702915-50d2-485d-a3e2-ccba685f0e59"
      },
      "source": [
        " original_list = [1, 2, 3, 4, 5]\n",
        "new_list = list(original_list)\n",
        "print(original_list)\n",
        "print(new_list)"
      ],
      "execution_count": null,
      "outputs": [
        {
          "output_type": "stream",
          "text": [
            "[1, 2, 3, 4, 5]\n",
            "[1, 2, 3, 4, 5]\n"
          ],
          "name": "stdout"
        }
      ]
    },
    {
      "cell_type": "markdown",
      "metadata": {
        "id": "xVTIiYfWWXrl",
        "colab_type": "text"
      },
      "source": [
        "5.Write a Python program to print a specified list after removing the 0th, 4th and 5th elements."
      ]
    },
    {
      "cell_type": "code",
      "metadata": {
        "id": "l9Dcz_G0XrTD",
        "colab_type": "code",
        "colab": {
          "base_uri": "https://localhost:8080/",
          "height": 34
        },
        "outputId": "75d833d6-b1f5-4ae3-e69a-c40929ed16a8"
      },
      "source": [
        " color = ['red', 'blue', 'purple', 'green', 'Pink', 'Yellow']\n",
        "color = [x for (i,x) in enumerate(color) if i not in (0,4,5)]\n",
        "print(color)"
      ],
      "execution_count": null,
      "outputs": [
        {
          "output_type": "stream",
          "text": [
            "['blue', 'purple', 'green']\n"
          ],
          "name": "stdout"
        }
      ]
    },
    {
      "cell_type": "markdown",
      "metadata": {
        "id": "2Y6UzXpPYMea",
        "colab_type": "text"
      },
      "source": [
        "6.Write a Python program to print the numbers of a specified list after removing even numbers from it."
      ]
    },
    {
      "cell_type": "code",
      "metadata": {
        "id": "XG9aTAzaYXB-",
        "colab_type": "code",
        "colab": {
          "base_uri": "https://localhost:8080/",
          "height": 34
        },
        "outputId": "8622f22b-c70e-4ed3-e8c8-06758bed617c"
      },
      "source": [
        " num = [77,8, 120, 25, 4, 20, 29]\n",
        "num = [x for x in num if x%2!=0]\n",
        "print(num)"
      ],
      "execution_count": null,
      "outputs": [
        {
          "output_type": "stream",
          "text": [
            "[77, 25, 29]\n"
          ],
          "name": "stdout"
        }
      ]
    },
    {
      "cell_type": "markdown",
      "metadata": {
        "id": "qvYtYxtwY_6N",
        "colab_type": "text"
      },
      "source": [
        "7.Write a Python program to shuffle and print a specified list."
      ]
    },
    {
      "cell_type": "code",
      "metadata": {
        "id": "D9BR8BaJoGzz",
        "colab_type": "code",
        "colab": {
          "base_uri": "https://localhost:8080/",
          "height": 54
        },
        "outputId": "b7665c77-966d-46fc-895b-3baecac3bbbd"
      },
      "source": [
        " from random import shuffle\n",
        "color = ['Red', 'Green', 'White', 'Black', 'Pink', 'Yellow']\n",
        "shuffle(color)\n",
        "print(color)"
      ],
      "execution_count": 32,
      "outputs": [
        {
          "output_type": "stream",
          "text": [
            "['Pink', 'Yellow', 'White', 'Green', 'Red', 'Black']\n"
          ],
          "name": "stdout"
        }
      ]
    },
    {
      "cell_type": "markdown",
      "metadata": {
        "id": "kVK9PWB7oQi9",
        "colab_type": "text"
      },
      "source": [
        "8.Write a Python program to get the difference between the two lists."
      ]
    },
    {
      "cell_type": "code",
      "metadata": {
        "id": "ilSdw7rgoXA0",
        "colab_type": "code",
        "colab": {
          "base_uri": "https://localhost:8080/",
          "height": 86
        },
        "outputId": "7c8bb729-c3ff-4b7b-c677-4bb69dcaf686"
      },
      "source": [
        " list1 = [10, 20, 30, 40, 50]\n",
        "list2 = [10, 20, 30, 60, 70]\n",
        "print (\"list1:\", list1) \n",
        "print (\"list2:\", list2) \n",
        "print (\"Difference elements:\") \n",
        "print (list (set(list1) - set (list2)))"
      ],
      "execution_count": 34,
      "outputs": [
        {
          "output_type": "stream",
          "text": [
            "list1: [10, 20, 30, 40, 50]\n",
            "list2: [10, 20, 30, 60, 70]\n",
            "Difference elements:\n",
            "[40, 50]\n"
          ],
          "name": "stdout"
        }
      ]
    }
  ]
}