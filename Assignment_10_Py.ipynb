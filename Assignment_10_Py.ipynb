{
  "nbformat": 4,
  "nbformat_minor": 0,
  "metadata": {
    "colab": {
      "name": "Assignment -10. Py",
      "provenance": [],
      "collapsed_sections": [],
      "authorship_tag": "ABX9TyO8+vxqj6XJ1ewnNjPeCsLw",
      "include_colab_link": true
    },
    "kernelspec": {
      "name": "python3",
      "display_name": "Python 3"
    }
  },
  "cells": [
    {
      "cell_type": "markdown",
      "metadata": {
        "id": "view-in-github",
        "colab_type": "text"
      },
      "source": [
        "<a href=\"https://colab.research.google.com/github/Reethusree012/assignment-2-/blob/master/Assignment_10_Py.ipynb\" target=\"_parent\"><img src=\"https://colab.research.google.com/assets/colab-badge.svg\" alt=\"Open In Colab\"/></a>"
      ]
    },
    {
      "cell_type": "markdown",
      "metadata": {
        "id": "VqEUHFswvqPq",
        "colab_type": "text"
      },
      "source": [
        "1.Write a Python program to read an entire text file."
      ]
    },
    {
      "cell_type": "code",
      "metadata": {
        "id": "cYfqKRvVy4de",
        "colab_type": "code",
        "colab": {
          "base_uri": "https://localhost:8080/",
          "height": 34
        },
        "outputId": "b6d6a8ee-8d16-4959-c906-06c9a27d2186"
      },
      "source": [
        " \n",
        "f=open(\"python.txt\",\"w\")\n",
        "f.close()\n",
        "f=open(\"python1.txt\",\"w\")\n",
        "f.write(\"hi guys\")\n",
        "f.close()\n",
        "f=open(\"python1.txt\",\"r\")\n",
        "str=f.read()\n",
        "print(str)\n",
        "f.close()"
      ],
      "execution_count": 2,
      "outputs": [
        {
          "output_type": "stream",
          "text": [
            "hi guys\n"
          ],
          "name": "stdout"
        }
      ]
    },
    {
      "cell_type": "markdown",
      "metadata": {
        "id": "1TSdpPQJzB9d",
        "colab_type": "text"
      },
      "source": [
        "2.Write a Python program to read first n lines of a file"
      ]
    },
    {
      "cell_type": "code",
      "metadata": {
        "id": "mnJl-TD9BvQc",
        "colab_type": "code",
        "colab": {}
      },
      "source": [
        " \n",
        "a_file=open(\"file_name.txt\",\"w\")\n",
        "f.close()"
      ],
      "execution_count": 3,
      "outputs": []
    },
    {
      "cell_type": "code",
      "metadata": {
        "id": "D_CJQF7gCJIr",
        "colab_type": "code",
        "colab": {
          "base_uri": "https://localhost:8080/",
          "height": 34
        },
        "outputId": "95c5f36d-167e-4ef0-f1fb-f8a6d37095c2"
      },
      "source": [
        " \n",
        "a_file = open(\"file_name.txt\")\n",
        "number_of_lines = 3\n",
        "for i in range(number_of_lines):\n",
        "    line = a_file.readline()\n",
        "print(line)"
      ],
      "execution_count": 5,
      "outputs": [
        {
          "output_type": "stream",
          "text": [
            "\n"
          ],
          "name": "stdout"
        }
      ]
    },
    {
      "cell_type": "markdown",
      "metadata": {
        "id": "waDTEaxmCTv-",
        "colab_type": "text"
      },
      "source": [
        " 3.Write a Python program to append text to a file and display the text."
      ]
    },
    {
      "cell_type": "code",
      "metadata": {
        "id": "d3aDtHV9CYH6",
        "colab_type": "code",
        "colab": {}
      },
      "source": [
        " f=open(\"python.txt\",\"w\")\n",
        "f.close()"
      ],
      "execution_count": null,
      "outputs": []
    },
    {
      "cell_type": "code",
      "metadata": {
        "id": "vxk09XNOCa0F",
        "colab_type": "code",
        "colab": {}
      },
      "source": [
        " f=open(\"python1.txt\",\"w\")\n",
        "f.write(\"hi guys\")\n",
        "f.close()"
      ],
      "execution_count": null,
      "outputs": []
    },
    {
      "cell_type": "code",
      "metadata": {
        "id": "kFHjWf5sCeIJ",
        "colab_type": "code",
        "colab": {
          "base_uri": "https://localhost:8080/",
          "height": 34
        },
        "outputId": "7230d027-5468-4711-a650-0fde011bf23c"
      },
      "source": [
        " \n",
        "f=open(\"python1.txt\",\"r\")\n",
        "print(f.read())\n",
        "f.close()"
      ],
      "execution_count": 6,
      "outputs": [
        {
          "output_type": "stream",
          "text": [
            "hi guys\n"
          ],
          "name": "stdout"
        }
      ]
    },
    {
      "cell_type": "code",
      "metadata": {
        "id": "H3lbQ3VpCnsY",
        "colab_type": "code",
        "colab": {}
      },
      "source": [
        " f=open(\"python1.txt\",\"a\")\n",
        "s='''am \n",
        "   Fine'''\n",
        "f.write(s)\n",
        "f.close()"
      ],
      "execution_count": 7,
      "outputs": []
    },
    {
      "cell_type": "markdown",
      "metadata": {
        "id": "2Jd-XbfoC9HD",
        "colab_type": "text"
      },
      "source": [
        " 4.Write a Python program to read last n lines of a file."
      ]
    },
    {
      "cell_type": "code",
      "metadata": {
        "id": "DIm8tQ9WC_Rq",
        "colab_type": "code",
        "colab": {
          "base_uri": "https://localhost:8080/",
          "height": 34
        },
        "outputId": "231b436f-ef34-46d8-d019-2017164e2e61"
      },
      "source": [
        " def LastNlines(fname, N):\n",
        "  with open(fname) as file:\n",
        "    for line in (file.readlines() [-N:]):\n",
        "      print(line, end ='')\n",
        "if __name__ == '__main__':\n",
        "  fname = 'File1.txt'\n",
        "  N = 3\n",
        "  try:\n",
        "   LastNlines(fname, N) \n",
        "  except:\n",
        "   print('File found')"
      ],
      "execution_count": 9,
      "outputs": [
        {
          "output_type": "stream",
          "text": [
            "File found\n"
          ],
          "name": "stdout"
        }
      ]
    },
    {
      "cell_type": "markdown",
      "metadata": {
        "id": "gL7O73HYDQp-",
        "colab_type": "text"
      },
      "source": [
        " 5.Write a Python program to read a file line by line store it into a variable."
      ]
    },
    {
      "cell_type": "code",
      "metadata": {
        "id": "4jBBdLNUDt-o",
        "colab_type": "code",
        "colab": {}
      },
      "source": [
        " \n",
        "f1=open(\"test.txt\",\"w\")\n",
        "f.close()"
      ],
      "execution_count": null,
      "outputs": []
    },
    {
      "cell_type": "code",
      "metadata": {
        "id": "qMOfNFtmDyrn",
        "colab_type": "code",
        "colab": {}
      },
      "source": [
        " \n",
        "f1=open(\"test1.txt\",\"w\")\n",
        "f1.write(\"python program\")\n",
        "f.close()"
      ],
      "execution_count": null,
      "outputs": []
    },
    {
      "cell_type": "code",
      "metadata": {
        "id": "4Caxi6T4D7sZ",
        "colab_type": "code",
        "colab": {
          "base_uri": "https://localhost:8080/",
          "height": 34
        },
        "outputId": "26d3b89a-fe98-480a-fd1c-66be24b119f4"
      },
      "source": [
        " \n",
        "f1=open('test1.txt').readlines()\n",
        "print(f1)"
      ],
      "execution_count": 13,
      "outputs": [
        {
          "output_type": "stream",
          "text": [
            "['Python']\n"
          ],
          "name": "stdout"
        }
      ]
    },
    {
      "cell_type": "markdown",
      "metadata": {
        "id": "8UmRwdFKD_Xr",
        "colab_type": "text"
      },
      "source": [
        " 6.write a program to read a file line by line store it into a list"
      ]
    },
    {
      "cell_type": "code",
      "metadata": {
        "id": "uwmp5tVaEGdv",
        "colab_type": "code",
        "colab": {}
      },
      "source": [
        " \n",
        "infile=open(\"test.txt\",\"w\")\n",
        "f.close()"
      ],
      "execution_count": 46,
      "outputs": []
    },
    {
      "cell_type": "code",
      "metadata": {
        "id": "uBjtWjJkER-2",
        "colab_type": "code",
        "colab": {}
      },
      "source": [
        " \n",
        "infile=open(\"test1.txt\",\"w\")\n",
        "infile.write(\"python\")\n",
        "f.close()"
      ],
      "execution_count": 48,
      "outputs": []
    },
    {
      "cell_type": "code",
      "metadata": {
        "id": "FZMc-w71Eh5k",
        "colab_type": "code",
        "colab": {
          "base_uri": "https://localhost:8080/",
          "height": 54
        },
        "outputId": "c0c8caf3-b817-46bb-e509-b7b6b8a6f97c"
      },
      "source": [
        " \n",
        "infile = \"test1.txt\"\n",
        "content_list = open(infile).readlines()\n",
        "print (content_list)"
      ],
      "execution_count": 47,
      "outputs": [
        {
          "output_type": "stream",
          "text": [
            "['welcome\\n', '     to\\n', '    Python']\n"
          ],
          "name": "stdout"
        }
      ]
    },
    {
      "cell_type": "markdown",
      "metadata": {
        "id": "9mkqbdeiExTp",
        "colab_type": "text"
      },
      "source": [
        " 7.write a python program to read a file line by line store it into a array."
      ]
    },
    {
      "cell_type": "code",
      "metadata": {
        "id": "OkK3ayNXE0sq",
        "colab_type": "code",
        "colab": {}
      },
      "source": [
        " f2=open(\"test1.txt\",\"w\")\n",
        "f.close()"
      ],
      "execution_count": 18,
      "outputs": []
    },
    {
      "cell_type": "code",
      "metadata": {
        "id": "QhjNHhn9E44e",
        "colab_type": "code",
        "colab": {}
      },
      "source": [
        " f2=open(\"test1.txt\",\"w\")\n",
        "s='''welcome\n",
        "      to\n",
        "     Python'''\n",
        "f2.write(s)\n",
        "f.close()"
      ],
      "execution_count": 21,
      "outputs": []
    },
    {
      "cell_type": "code",
      "metadata": {
        "id": "KrduzPzlE8GG",
        "colab_type": "code",
        "colab": {
          "base_uri": "https://localhost:8080/",
          "height": 54
        },
        "outputId": "1772b2f2-f143-4bec-c38a-453b4bc6f272"
      },
      "source": [
        " f2=(\"test1.txt\")\n",
        "content_array=open(f2).readlines()\n",
        "print(content_array)"
      ],
      "execution_count": 22,
      "outputs": [
        {
          "output_type": "stream",
          "text": [
            "['welcome\\n', '     to\\n', '    Python']\n"
          ],
          "name": "stdout"
        }
      ]
    },
    {
      "cell_type": "markdown",
      "metadata": {
        "id": "uaOXOr5GFXNw",
        "colab_type": "text"
      },
      "source": [
        " 8.Write a Python program to count the number of lines in a text file."
      ]
    },
    {
      "cell_type": "code",
      "metadata": {
        "id": "OwNaevhQFY7K",
        "colab_type": "code",
        "colab": {}
      },
      "source": [
        " f3=open(\"file.txt\",\"w\")\n",
        "f3.close()"
      ],
      "execution_count": null,
      "outputs": []
    },
    {
      "cell_type": "code",
      "metadata": {
        "id": "zNcqqe-MFZip",
        "colab_type": "code",
        "colab": {}
      },
      "source": [
        " f3=open(\"file.txt\",\"w\")\n",
        "s='''i\n",
        "     like to\n",
        "     Code'''\n",
        "f3.write(s)\n",
        "f3.close()"
      ],
      "execution_count": 26,
      "outputs": []
    },
    {
      "cell_type": "code",
      "metadata": {
        "id": "-dwSIGhRFZ0M",
        "colab_type": "code",
        "colab": {
          "base_uri": "https://localhost:8080/",
          "height": 34
        },
        "outputId": "a4c4013b-6027-4620-812f-1ea6decb5773"
      },
      "source": [
        " f3=open(\"file.txt\",\"r\")\n",
        "s=f3.read()\n",
        "print(len(s.split('\\n')))\n",
        "f.close()"
      ],
      "execution_count": 27,
      "outputs": [
        {
          "output_type": "stream",
          "text": [
            "3\n"
          ],
          "name": "stdout"
        }
      ]
    },
    {
      "cell_type": "markdown",
      "metadata": {
        "id": "00f2OLvXF43i",
        "colab_type": "text"
      },
      "source": [
        " 9.write a python program to get the file size of a plain file."
      ]
    },
    {
      "cell_type": "code",
      "metadata": {
        "id": "1sccKcQEF7bL",
        "colab_type": "code",
        "colab": {}
      },
      "source": [
        " file=open(\"test.txt\",\"w\")\n",
        "f.close()"
      ],
      "execution_count": 32,
      "outputs": []
    },
    {
      "cell_type": "code",
      "metadata": {
        "id": "YDkthyj3F9tt",
        "colab_type": "code",
        "colab": {}
      },
      "source": [
        " file=open(\"test.txt\",\"w\")\n",
        "file.write(\"programming\")\n",
        "f.close()"
      ],
      "execution_count": 36,
      "outputs": []
    },
    {
      "cell_type": "code",
      "metadata": {
        "id": "i452PGwpGeh9",
        "colab_type": "code",
        "colab": {
          "base_uri": "https://localhost:8080/",
          "height": 34
        },
        "outputId": "41ae01d9-f47a-4b0a-fdfd-4848d4b3c7ae"
      },
      "source": [
        " import os\n",
        "os.path.getsize(\"test.txt\")"
      ],
      "execution_count": 38,
      "outputs": [
        {
          "output_type": "execute_result",
          "data": {
            "text/plain": [
              "11"
            ]
          },
          "metadata": {
            "tags": []
          },
          "execution_count": 38
        }
      ]
    },
    {
      "cell_type": "markdown",
      "metadata": {
        "id": "UxX_ranBGjFg",
        "colab_type": "text"
      },
      "source": [
        " 10.write a python program to copy the contents of a file into another."
      ]
    },
    {
      "cell_type": "code",
      "metadata": {
        "id": "hw2FBQnvGmDR",
        "colab_type": "code",
        "colab": {}
      },
      "source": [
        " file1=open(\"f1.txt\",\"w\")\n",
        "file1.close()"
      ],
      "execution_count": 39,
      "outputs": []
    },
    {
      "cell_type": "code",
      "metadata": {
        "id": "ZvGNKRALG5bm",
        "colab_type": "code",
        "colab": {}
      },
      "source": [
        " file1=open(\"f1.txt\",\"w\")\n",
        "s='''welcome \n",
        "     to programming\n",
        "     world'''\n",
        "file1.write(s)\n",
        "file1.close()"
      ],
      "execution_count": 45,
      "outputs": []
    },
    {
      "cell_type": "code",
      "metadata": {
        "id": "clcwRI9IG50M",
        "colab_type": "code",
        "colab": {}
      },
      "source": [
        " file2=open(\"f2.txt\",\"w\")\n",
        "file1=open(\"f1.txt\",\"r\")\n",
        "for line in file1:\n",
        "  file2.write(line)\n",
        "file1.close()\n",
        "file2.close()"
      ],
      "execution_count": 43,
      "outputs": []
    }
  ]
}