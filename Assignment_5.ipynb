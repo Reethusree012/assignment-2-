{
  "nbformat": 4,
  "nbformat_minor": 0,
  "metadata": {
    "colab": {
      "name": "Assignment 5",
      "provenance": [],
      "collapsed_sections": [],
      "authorship_tag": "ABX9TyP6Y47Pn+4iCRva0Fd4EtS/",
      "include_colab_link": true
    },
    "kernelspec": {
      "name": "python3",
      "display_name": "Python 3"
    }
  },
  "cells": [
    {
      "cell_type": "markdown",
      "metadata": {
        "id": "view-in-github",
        "colab_type": "text"
      },
      "source": [
        "<a href=\"https://colab.research.google.com/github/Reethusree012/assignment-2-/blob/master/Assignment_5.ipynb\" target=\"_parent\"><img src=\"https://colab.research.google.com/assets/colab-badge.svg\" alt=\"Open In Colab\"/></a>"
      ]
    },
    {
      "cell_type": "markdown",
      "metadata": {
        "id": "bed0fNJj7w4O",
        "colab_type": "text"
      },
      "source": [
        "1.Write a python program to find area of circle using math function."
      ]
    },
    {
      "cell_type": "code",
      "metadata": {
        "id": "QDzNbu9n7xta",
        "colab_type": "code",
        "colab": {
          "base_uri": "https://localhost:8080/",
          "height": 51
        },
        "outputId": "de3e15f5-8044-41b8-b65d-d4518f8fae14"
      },
      "source": [
        "import math\n",
        "r=float(input(\"Enter the radius\"))\n",
        "area=math.pi*r*r\n",
        "print(area,\"The area is\")"
      ],
      "execution_count": null,
      "outputs": [
        {
          "output_type": "stream",
          "text": [
            "Enter the radius15\n",
            "706.8583470577034 The area is\n"
          ],
          "name": "stdout"
        }
      ]
    },
    {
      "cell_type": "markdown",
      "metadata": {
        "id": "gHE-fKnh8XGv",
        "colab_type": "text"
      },
      "source": [
        " 2.Write a program to find Area of Regular Polygon using math function."
      ]
    },
    {
      "cell_type": "code",
      "metadata": {
        "id": "skI4amSz8cUy",
        "colab_type": "code",
        "colab": {
          "base_uri": "https://localhost:8080/",
          "height": 89
        },
        "outputId": "c4845242-3774-4593-ad17-b72bf96f36f3"
      },
      "source": [
        " from math import tan, pi\n",
        "n_sides = int(input(\"Input number of sides: \"))\n",
        "s_length = float(input(\"Input the length of a side: \"))\n",
        "p_area = n_sides * (s_length ** 2) / (4 * tan(pi / n_sides))\n",
        "print(\"The area of the polygon is: \",p_area)"
      ],
      "execution_count": null,
      "outputs": [
        {
          "output_type": "stream",
          "text": [
            "Input number of sides: 21\n",
            "Input the length of a side: 2.5\n",
            "The area of the polygon is:  217.6967132743368\n"
          ],
          "name": "stdout"
        }
      ]
    },
    {
      "cell_type": "markdown",
      "metadata": {
        "id": "jIa1NxAFio62",
        "colab_type": "text"
      },
      "source": [
        "3.Write a python program by using math module to find\n",
        "Sin60\n",
        "cos(pi)\n",
        "tan90\n",
        "angle of sin(0.8660254037844386)\n",
        "5^8\n",
        "Square root of 400\n",
        "The value of 5^e\n",
        "The value of Log(1024), base 2\n",
        "The value of Log(1024), base 10\n",
        "The Floor and Ceiling value of 23.56"
      ]
    },
    {
      "cell_type": "code",
      "metadata": {
        "id": "bXRdoR27iuQi",
        "colab_type": "code",
        "colab": {
          "base_uri": "https://localhost:8080/",
          "height": 138
        },
        "outputId": "3d8ff2a3-8bda-4b2e-8666-3319651d32ef"
      },
      "source": [
        " import math\n",
        "pi=3.14159\n",
        "print(\"sin 60\",math.sin(60))\n",
        "print(\"cos(pi)\",math.cos(pi))\n",
        "print(\"tap 90\",math.tan(90))\n",
        "print(\"5^8\",5**8)\n",
        "print(\"squrt 400\",math.sqrt(400))\n",
        "print(\"Floor\",math.floor(23.56))\n",
        "print(\"ceiling\",math.ceil(23.56))"
      ],
      "execution_count": 6,
      "outputs": [
        {
          "output_type": "stream",
          "text": [
            "sin 60 -0.3048106211022167\n",
            "cos(pi) -0.9999999999964793\n",
            "tap 90 -1.995200412208242\n",
            "5^8 390625\n",
            "squrt 400 20.0\n",
            "Floor 23\n",
            "ceiling 24\n"
          ],
          "name": "stdout"
        }
      ]
    },
    {
      "cell_type": "markdown",
      "metadata": {
        "id": "fV0Et0QUkGKg",
        "colab_type": "text"
      },
      "source": [
        " 4.Write a program to find  Area of a Segment of a Circle Formula using math function."
      ]
    },
    {
      "cell_type": "code",
      "metadata": {
        "id": "W4_vM_GUkLVV",
        "colab_type": "code",
        "colab": {
          "base_uri": "https://localhost:8080/",
          "height": 151
        },
        "outputId": "0e22702d-e1a7-44a4-a69c-4a6960614882"
      },
      "source": [
        " \n",
        " def area_of_segment(radius, angle):\n",
        "import math \n",
        " pi = 3.14159\n",
        " area_of_sector = pi * (radius * radius) * (angle / 360)\n",
        " area_of_triangle = 1 / 2 *  (radius * radius) *  math.sin((angle * pi) / 180) \n",
        " return area_of_sector - area_of_triangle;\n",
        " radius = 10.0 \n",
        " angle = 90.0 \n",
        "print(\"Area of minor segment =\",  area_of_segment(radius, angle)) \n",
        " \n",
        "print(\"Area of major segment =\", area_of_segment(radius, (360 - angle)))"
      ],
      "execution_count": 14,
      "outputs": [
        {
          "output_type": "error",
          "ename": "IndentationError",
          "evalue": "ignored",
          "traceback": [
            "\u001b[0;36m  File \u001b[0;32m\"<ipython-input-14-9e2276a59faa>\"\u001b[0;36m, line \u001b[0;32m3\u001b[0m\n\u001b[0;31m    import math\u001b[0m\n\u001b[0m         ^\u001b[0m\n\u001b[0;31mIndentationError\u001b[0m\u001b[0;31m:\u001b[0m expected an indented block\n"
          ]
        }
      ]
    },
    {
      "cell_type": "markdown",
      "metadata": {
        "id": "cmAOGRmYmXqT",
        "colab_type": "text"
      },
      "source": [
        "5.Write a program to generate random numbers between 1,10000 and difference between each random number is 50."
      ]
    },
    {
      "cell_type": "code",
      "metadata": {
        "id": "A6hycZR6mZXx",
        "colab_type": "code",
        "colab": {
          "base_uri": "https://localhost:8080/",
          "height": 34
        },
        "outputId": "78a5c416-3693-4b9a-e9e4-47e866e0dc0d"
      },
      "source": [
        " import random\n",
        " \n",
        "print(random.randint(1,10000))"
      ],
      "execution_count": 24,
      "outputs": [
        {
          "output_type": "stream",
          "text": [
            "6630\n"
          ],
          "name": "stdout"
        }
      ]
    }
  ]
}