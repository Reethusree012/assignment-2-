{
  "nbformat": 4,
  "nbformat_minor": 0,
  "metadata": {
    "colab": {
      "name": "Assignment 8",
      "provenance": [],
      "collapsed_sections": [],
      "authorship_tag": "ABX9TyMR9a8Bli6dF2CIOev9/PXT",
      "include_colab_link": true
    },
    "kernelspec": {
      "name": "python3",
      "display_name": "Python 3"
    }
  },
  "cells": [
    {
      "cell_type": "markdown",
      "metadata": {
        "id": "view-in-github",
        "colab_type": "text"
      },
      "source": [
        "<a href=\"https://colab.research.google.com/github/Reethusree012/assignment-2-/blob/master/Assignment_8.ipynb\" target=\"_parent\"><img src=\"https://colab.research.google.com/assets/colab-badge.svg\" alt=\"Open In Colab\"/></a>"
      ]
    },
    {
      "cell_type": "code",
      "metadata": {
        "id": "pJe_VfCD3PLD",
        "colab_type": "code",
        "colab": {}
      },
      "source": [
        ""
      ],
      "execution_count": null,
      "outputs": []
    },
    {
      "cell_type": "markdown",
      "metadata": {
        "id": "243AzY913XtP",
        "colab_type": "text"
      },
      "source": [
        "1.Write a Python program to calculate the length of a string"
      ]
    },
    {
      "cell_type": "code",
      "metadata": {
        "id": "hQU4bcGu3X5M",
        "colab_type": "code",
        "colab": {
          "base_uri": "https://localhost:8080/",
          "height": 51
        },
        "outputId": "06af94d9-ebb9-4ecc-8c8b-1d314dd264c2"
      },
      "source": [
        " str = input(\"Enter a string: \")\n",
        "counter = 0\n",
        "for s in str:\n",
        "      counter = counter+1\n",
        "print(\"Length of the input string is:\", counter)"
      ],
      "execution_count": null,
      "outputs": [
        {
          "output_type": "stream",
          "text": [
            "Enter a string: Hello everyone\n",
            "Length of the input string is: 14\n"
          ],
          "name": "stdout"
        }
      ]
    },
    {
      "cell_type": "markdown",
      "metadata": {
        "id": "kf9eMU2T4ScX",
        "colab_type": "text"
      },
      "source": [
        "2.Write a Python program to count the number of characters (character frequency) in a string."
      ]
    },
    {
      "cell_type": "code",
      "metadata": {
        "id": "r5Lv2kPA4kze",
        "colab_type": "code",
        "colab": {
          "base_uri": "https://localhost:8080/",
          "height": 54
        },
        "outputId": "461773ae-a69f-4134-ae74-41a9b99ac852"
      },
      "source": [
        " def char_frequency(str1):\n",
        "    dict = {}\n",
        "    for n in str1:\n",
        "        keys = dict.keys()\n",
        "        if n in keys:\n",
        "            dict[n] += 1\n",
        "        else:\n",
        "            dict[n] = 1\n",
        "    return dict\n",
        "print(char_frequency('unversity.com'))"
      ],
      "execution_count": 2,
      "outputs": [
        {
          "output_type": "stream",
          "text": [
            "{'u': 1, 'n': 1, 'v': 1, 'e': 1, 'r': 1, 's': 1, 'i': 1, 't': 1, 'y': 1, '.': 1, 'c': 1, 'o': 1, 'm': 1}\n"
          ],
          "name": "stdout"
        }
      ]
    },
    {
      "cell_type": "markdown",
      "metadata": {
        "id": "uHJyR1XI45MO",
        "colab_type": "text"
      },
      "source": [
        "3.Write a Python program to get a single string from two given strings, separated by a space and swap the first two characters of each string"
      ]
    },
    {
      "cell_type": "code",
      "metadata": {
        "id": "F1SubC3z5IYA",
        "colab_type": "code",
        "colab": {
          "base_uri": "https://localhost:8080/",
          "height": 34
        },
        "outputId": "e5efb826-6c20-4c29-de4e-ddc2bcbc1a31"
      },
      "source": [
        " def chars_mix_up(a, b):  \n",
        "  new_a = b[:2] + a[2:]  \n",
        "  new_b = a[:2] + b[2:]  \n",
        "  \n",
        "  return new_a + ' ' + new_b  \n",
        "print(chars_mix_up('pqr', 'abc'))"
      ],
      "execution_count": 4,
      "outputs": [
        {
          "output_type": "stream",
          "text": [
            "abr pqc\n"
          ],
          "name": "stdout"
        }
      ]
    },
    {
      "cell_type": "markdown",
      "metadata": {
        "id": "qrTA_ND-5UYj",
        "colab_type": "text"
      },
      "source": [
        " 4.Write a Python script that takes input from the user and displays that input back in upper and lower cases"
      ]
    },
    {
      "cell_type": "code",
      "metadata": {
        "id": "gXgD1Q_A5c4x",
        "colab_type": "code",
        "colab": {
          "base_uri": "https://localhost:8080/",
          "height": 89
        },
        "outputId": "4276151a-699a-4a1f-ed39-8fcbc430baaa"
      },
      "source": [
        " user_input = input(\"What's your favourite language? \")\n",
        "print(\"My favourite language is \", user_input.upper())\n",
        "print(\"My favourite language is \", user_input.lower())"
      ],
      "execution_count": 5,
      "outputs": [
        {
          "output_type": "stream",
          "text": [
            "What's your favourite language? Maths\n",
            "My favourite language is  MATHS\n",
            "My favourite language is  maths\n"
          ],
          "name": "stdout"
        }
      ]
    },
    {
      "cell_type": "markdown",
      "metadata": {
        "id": "EC2Bnr_L5pDJ",
        "colab_type": "text"
      },
      "source": [
        "5.Write a Python program to remove a newline in Python."
      ]
    },
    {
      "cell_type": "code",
      "metadata": {
        "id": "bmoNbjBt5rZP",
        "colab_type": "code",
        "colab": {
          "base_uri": "https://localhost:8080/",
          "height": 69
        },
        "outputId": "0400b45c-983a-4fb4-dde7-4baa2c4e6544"
      },
      "source": [
        " str1='Python\\n'\n",
        "print(str1)\n",
        "print(str1.rstrip())"
      ],
      "execution_count": 7,
      "outputs": [
        {
          "output_type": "stream",
          "text": [
            "Python\n",
            "\n",
            "Python\n"
          ],
          "name": "stdout"
        }
      ]
    },
    {
      "cell_type": "markdown",
      "metadata": {
        "id": "xzAGs8Vi5_DE",
        "colab_type": "text"
      },
      "source": [
        "6.Write a Python program to count occurrences of a substring in a string."
      ]
    },
    {
      "cell_type": "code",
      "metadata": {
        "id": "EQw2BKhB6C2G",
        "colab_type": "code",
        "colab": {
          "base_uri": "https://localhost:8080/",
          "height": 69
        },
        "outputId": "c697a88b-97b2-43cf-c994-b4ed453fd574"
      },
      "source": [
        " str1 = 'the truth you are never the same.'\n",
        "print()\n",
        "print(str1.count(\"truth\"))\n",
        "print()"
      ],
      "execution_count": 10,
      "outputs": [
        {
          "output_type": "stream",
          "text": [
            "\n",
            "1\n",
            "\n"
          ],
          "name": "stdout"
        }
      ]
    },
    {
      "cell_type": "markdown",
      "metadata": {
        "id": "JRUq8wG26Xyk",
        "colab_type": "text"
      },
      "source": [
        "7.Write a Python program to convert a string in a list."
      ]
    },
    {
      "cell_type": "code",
      "metadata": {
        "id": "GFFsBePt6ina",
        "colab_type": "code",
        "colab": {
          "base_uri": "https://localhost:8080/",
          "height": 34
        },
        "outputId": "83588c33-61d2-4796-b1cc-114ef3fee40b"
      },
      "source": [
        " def Convert(string): \n",
        "    li = list(string.split(\" \")) \n",
        "    return li\n",
        " \n",
        "str1 = \"hello this is reethu\"\n",
        "print(Convert(str1))"
      ],
      "execution_count": 11,
      "outputs": [
        {
          "output_type": "stream",
          "text": [
            "['hello', 'this', 'is', 'reethu']\n"
          ],
          "name": "stdout"
        }
      ]
    },
    {
      "cell_type": "markdown",
      "metadata": {
        "id": "lh79nqno6uCb",
        "colab_type": "text"
      },
      "source": [
        "8.Write a Python program to perform Deletion of a character"
      ]
    },
    {
      "cell_type": "code",
      "metadata": {
        "id": "drnm30od6uYU",
        "colab_type": "code",
        "colab": {
          "base_uri": "https://localhost:8080/",
          "height": 54
        },
        "outputId": "425247ee-d787-4be7-f039-787ca3d9733a"
      },
      "source": [
        " def remove(string, i):\n",
        "   a = string[ : i]\n",
        "   b = string[i + 1: ]\n",
        "   return a + b\n",
        " \n",
        "if __name__ == '__main__':\n",
        "   string = \"nothing tends so much to the advance\"\n",
        "   i = 7\n",
        "   print(remove(string, i))"
      ],
      "execution_count": 12,
      "outputs": [
        {
          "output_type": "stream",
          "text": [
            "nothingtends so much to the advance\n"
          ],
          "name": "stdout"
        }
      ]
    },
    {
      "cell_type": "markdown",
      "metadata": {
        "id": "WIYDftcl7I74",
        "colab_type": "text"
      },
      "source": [
        "9.Write a program to print every character of a string entered by user in a new line using loop."
      ]
    },
    {
      "cell_type": "code",
      "metadata": {
        "id": "mPRtpuW-7JdS",
        "colab_type": "code",
        "colab": {
          "base_uri": "https://localhost:8080/",
          "height": 228
        },
        "outputId": "2880f1a9-731f-41f1-e533-6e4646b886b6"
      },
      "source": [
        " str1 = input(\"Please Enter your Own String : \")\n",
        " \n",
        "for i in range(len(str1)):\n",
        "    print(\"The Character at %d Index Position = %c\" %(i, str1[i]))"
      ],
      "execution_count": 13,
      "outputs": [
        {
          "output_type": "stream",
          "text": [
            "Please Enter your Own String : Possession\n",
            "The Character at 0 Index Position = P\n",
            "The Character at 1 Index Position = o\n",
            "The Character at 2 Index Position = s\n",
            "The Character at 3 Index Position = s\n",
            "The Character at 4 Index Position = e\n",
            "The Character at 5 Index Position = s\n",
            "The Character at 6 Index Position = s\n",
            "The Character at 7 Index Position = i\n",
            "The Character at 8 Index Position = o\n",
            "The Character at 9 Index Position = n\n"
          ],
          "name": "stdout"
        }
      ]
    },
    {
      "cell_type": "markdown",
      "metadata": {
        "id": "xyasZPUh7afl",
        "colab_type": "text"
      },
      "source": [
        "10.Write a program to find the length of the string \"refrigerator\" without using len function."
      ]
    },
    {
      "cell_type": "code",
      "metadata": {
        "id": "GAt-YumZ7a0G",
        "colab_type": "code",
        "colab": {
          "base_uri": "https://localhost:8080/",
          "height": 69
        },
        "outputId": "3a1f190f-459f-4470-9357-7b6480a9bb56"
      },
      "source": [
        " string=input(\"Enter string:\")\n",
        "count=0\n",
        "for i in string:\n",
        "      count=count+1\n",
        "print(\"Length of the string is:\")\n",
        "print(count)"
      ],
      "execution_count": 14,
      "outputs": [
        {
          "output_type": "stream",
          "text": [
            "Enter string:Python program\n",
            "Length of the string is:\n",
            "14\n"
          ],
          "name": "stdout"
        }
      ]
    }
  ]
}