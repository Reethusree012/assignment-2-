{
  "nbformat": 4,
  "nbformat_minor": 0,
  "metadata": {
    "colab": {
      "name": "Assignment-12.ipynb",
      "provenance": [],
      "authorship_tag": "ABX9TyP+PREhtCBeOg2W2Z63bIVN",
      "include_colab_link": true
    },
    "kernelspec": {
      "name": "python3",
      "display_name": "Python 3"
    }
  },
  "cells": [
    {
      "cell_type": "markdown",
      "metadata": {
        "id": "view-in-github",
        "colab_type": "text"
      },
      "source": [
        "<a href=\"https://colab.research.google.com/github/Reethusree012/assignment-2-/blob/master/Assignment_12.ipynb\" target=\"_parent\"><img src=\"https://colab.research.google.com/assets/colab-badge.svg\" alt=\"Open In Colab\"/></a>"
      ]
    },
    {
      "cell_type": "code",
      "metadata": {
        "id": "sWdB6hFEBrmN",
        "colab_type": "code",
        "colab": {}
      },
      "source": [
        ""
      ],
      "execution_count": null,
      "outputs": []
    },
    {
      "cell_type": "markdown",
      "metadata": {
        "id": "J9wOJ3MCCd59",
        "colab_type": "text"
      },
      "source": [
        "1.What is dictionary in Python? Explain with an example"
      ]
    },
    {
      "cell_type": "markdown",
      "metadata": {
        "id": "XLhHyVoBFLZD",
        "colab_type": "text"
      },
      "source": [
        "ANS:-A dictionary is a collection which is unordered, changeable and indexed. In Python dictionaries are written with curly brackets, and they have keys and values."
      ]
    },
    {
      "cell_type": "code",
      "metadata": {
        "id": "27hq6AgeFQJ5",
        "colab_type": "code",
        "colab": {
          "base_uri": "https://localhost:8080/",
          "height": 54
        },
        "outputId": "468bac15-3575-42cd-f7a1-f28134bafffc"
      },
      "source": [
        " thisdict = {\n",
        "  \"brand\": \"Ford\",\n",
        "  \"model\": \"Mustang\",\n",
        "  \"year\": 1964\n",
        "}\n",
        "print(thisdict)"
      ],
      "execution_count": 1,
      "outputs": [
        {
          "output_type": "stream",
          "text": [
            "{'brand': 'Ford', 'model': 'Mustang', 'year': 1964}\n"
          ],
          "name": "stdout"
        }
      ]
    },
    {
      "cell_type": "markdown",
      "metadata": {
        "id": "7kcpdkIwFn2C",
        "colab_type": "text"
      },
      "source": [
        "2.Write a Python program to sum all the items in a list."
      ]
    },
    {
      "cell_type": "code",
      "metadata": {
        "id": "IHHEwjsEF0k7",
        "colab_type": "code",
        "colab": {
          "base_uri": "https://localhost:8080/",
          "height": 158
        },
        "outputId": "87821b78-9fd2-4960-d3c7-4ad0cb1fdd29"
      },
      "source": [
        " lst = []\n",
        "num = int(input('please enter the list of numbers: '))\n",
        "for n in range(num):\n",
        "    numbers = int(input('Enter number '))\n",
        "    lst.append(numbers)\n",
        "print(\"Sum of elements in given list is :\",sum(lst))"
      ],
      "execution_count": 8,
      "outputs": [
        {
          "output_type": "stream",
          "text": [
            "please enter the list of numbers: 5\n",
            "Enter number 44\n",
            "Enter number 12\n",
            "Enter number 1\n",
            "Enter number 73\n",
            "Enter number 98\n",
            "Sum of elements in given list is : 228\n"
          ],
          "name": "stdout"
        }
      ]
    },
    {
      "cell_type": "markdown",
      "metadata": {
        "id": "dwwAL6QpIXsf",
        "colab_type": "text"
      },
      "source": [
        "3.Write a Python program to create a list of empty dictionaries."
      ]
    },
    {
      "cell_type": "code",
      "metadata": {
        "id": "8CWSoW6vIhYg",
        "colab_type": "code",
        "colab": {
          "base_uri": "https://localhost:8080/",
          "height": 34
        },
        "outputId": "2e7414f3-8c70-44d8-ed05-7d9a5372abdc"
      },
      "source": [
        "n = 3\n",
        "l = [{} for _ in range(n)]\n",
        "print(l)"
      ],
      "execution_count": 10,
      "outputs": [
        {
          "output_type": "stream",
          "text": [
            "[{}, {}, {}]\n"
          ],
          "name": "stdout"
        }
      ]
    },
    {
      "cell_type": "markdown",
      "metadata": {
        "id": "6zoQKtkeI1_L",
        "colab_type": "text"
      },
      "source": [
        "4.Write a Python program to access dictionary keys element by index."
      ]
    },
    {
      "cell_type": "code",
      "metadata": {
        "id": "eSomR7tVJB6d",
        "colab_type": "code",
        "colab": {
          "base_uri": "https://localhost:8080/",
          "height": 34
        },
        "outputId": "9951afb1-6238-4f5e-f85f-41383e5847d9"
      },
      "source": [
        "num = {'physics': 80, 'math': 90, 'chemistry': 86}\n",
        "print(list(num)[2])"
      ],
      "execution_count": 13,
      "outputs": [
        {
          "output_type": "stream",
          "text": [
            "chemistry\n"
          ],
          "name": "stdout"
        }
      ]
    },
    {
      "cell_type": "markdown",
      "metadata": {
        "id": "tn7cCvlTJszc",
        "colab_type": "text"
      },
      "source": [
        "5.write a python program to iterate over dictionaries using for loops"
      ]
    },
    {
      "cell_type": "code",
      "metadata": {
        "id": "aTaif78cKmKY",
        "colab_type": "code",
        "colab": {
          "base_uri": "https://localhost:8080/",
          "height": 69
        },
        "outputId": "aff06194-5872-435f-cf12-49582e704b57"
      },
      "source": [
        " d1={'name': 'Ravi', 'age': 23, 'marks': 56}\n",
        " for k,v in d1.items():\n",
        "  print(k,v)"
      ],
      "execution_count": 15,
      "outputs": [
        {
          "output_type": "stream",
          "text": [
            "name Ravi\n",
            "age 23\n",
            "marks 56\n"
          ],
          "name": "stdout"
        }
      ]
    },
    {
      "cell_type": "markdown",
      "metadata": {
        "id": "9q-h9QeYLWXM",
        "colab_type": "text"
      },
      "source": [
        "6.Write a Python program to sum all the items in a dictionary."
      ]
    },
    {
      "cell_type": "code",
      "metadata": {
        "id": "plRbI7k-LdKV",
        "colab_type": "code",
        "colab": {
          "base_uri": "https://localhost:8080/",
          "height": 34
        },
        "outputId": "a10b9e62-5278-4335-8a79-ba98b38f1b72"
      },
      "source": [
        " \n",
        "my_dict = {'data1':10,'data2':-54,'data3':247}\n",
        "print(sum(my_dict.values()))"
      ],
      "execution_count": 17,
      "outputs": [
        {
          "output_type": "stream",
          "text": [
            "203\n"
          ],
          "name": "stdout"
        }
      ]
    },
    {
      "cell_type": "markdown",
      "metadata": {
        "id": "PiyVPwb3L4ik",
        "colab_type": "text"
      },
      "source": [
        "7.Write a Python script to concatenate following dictionaries to create a new one."
      ]
    },
    {
      "cell_type": "code",
      "metadata": {
        "id": "8UsERaKxMSJn",
        "colab_type": "code",
        "colab": {
          "base_uri": "https://localhost:8080/",
          "height": 54
        },
        "outputId": "976f7d2a-f451-40f6-9eec-1a5293a72b6a"
      },
      "source": [
        " dic1={1:10, 2:20}\n",
        "dic2={3:30, 4:40}\n",
        "dic3={5:50,6:60}\n",
        "dic4 = {}\n",
        "for d in (dic1, dic2, dic3): dic4.update(d)\n",
        "print(dic4)"
      ],
      "execution_count": 18,
      "outputs": [
        {
          "output_type": "stream",
          "text": [
            "{1: 10, 2: 20, 3: 30, 4: 40, 5: 50, 6: 60}\n"
          ],
          "name": "stdout"
        }
      ]
    }
  ]
}