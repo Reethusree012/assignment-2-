{
  "nbformat": 4,
  "nbformat_minor": 0,
  "metadata": {
    "colab": {
      "name": "Assignment 7.py",
      "provenance": [],
      "authorship_tag": "ABX9TyOP+Wg6hjr3MPODJUPzrCBM",
      "include_colab_link": true
    },
    "kernelspec": {
      "name": "python3",
      "display_name": "Python 3"
    }
  },
  "cells": [
    {
      "cell_type": "markdown",
      "metadata": {
        "id": "view-in-github",
        "colab_type": "text"
      },
      "source": [
        "<a href=\"https://colab.research.google.com/github/Reethusree012/assignment-2-/blob/master/Assignment_7.ipynb\" target=\"_parent\"><img src=\"https://colab.research.google.com/assets/colab-badge.svg\" alt=\"Open In Colab\"/></a>"
      ]
    },
    {
      "cell_type": "markdown",
      "metadata": {
        "id": "WWgUJAZ2olAv",
        "colab_type": "text"
      },
      "source": [
        "1.Python program to find the square root."
      ]
    },
    {
      "cell_type": "code",
      "metadata": {
        "id": "ySvI73YXpDdl",
        "colab_type": "code",
        "colab": {
          "base_uri": "https://localhost:8080/",
          "height": 51
        },
        "outputId": "33e03202-2cb7-4e64-cfb8-cf40cc0d46d4"
      },
      "source": [
        "   num=float(input(\"enter number \")) \n",
        "   num_sqrt = num **0.5\n",
        "   print('The square root of %0.3f is %0.3f'%(num ,num_sqrt))"
      ],
      "execution_count": null,
      "outputs": [
        {
          "output_type": "stream",
          "text": [
            "enter number 38\n",
            "The square root of 38.000 is 6.164\n"
          ],
          "name": "stdout"
        }
      ]
    },
    {
      "cell_type": "markdown",
      "metadata": {
        "id": "t_QRFlL7q-lT",
        "colab_type": "text"
      },
      "source": [
        "(OR)"
      ]
    },
    {
      "cell_type": "code",
      "metadata": {
        "id": "kHDLgJ8hrX_T",
        "colab_type": "code",
        "colab": {
          "base_uri": "https://localhost:8080/",
          "height": 51
        },
        "outputId": "799d47aa-8bee-4393-db54-31850f130dbc"
      },
      "source": [
        " \n",
        "number = int(input(\"enter a number: \"))\n",
        "sqrt = number ** 0.5\n",
        "print(\"square root\", sqrt)"
      ],
      "execution_count": null,
      "outputs": [
        {
          "output_type": "stream",
          "text": [
            "enter a number: 38\n",
            "square root 6.164414002968976\n"
          ],
          "name": "stdout"
        }
      ]
    },
    {
      "cell_type": "markdown",
      "metadata": {
        "id": "8Jk82obLrydU",
        "colab_type": "text"
      },
      "source": [
        "2.python program to check if  number a postive, negative or zero."
      ]
    },
    {
      "cell_type": "code",
      "metadata": {
        "id": "rvXapIyysIFw",
        "colab_type": "code",
        "colab": {
          "base_uri": "https://localhost:8080/",
          "height": 51
        },
        "outputId": "0a82580a-c3a7-4f55-bc9a-a39abad68cfd"
      },
      "source": [
        " n=int(input(\"enter the number\"))\n",
        " if n>0:\n",
        "  print(\"It is postive number \") \n",
        " elif n==0:\n",
        "  print(\" Zero\")\n",
        "else:\n",
        "  print(\"It is negative number \")"
      ],
      "execution_count": null,
      "outputs": [
        {
          "output_type": "stream",
          "text": [
            "enter the number-1\n",
            "It is negative number \n"
          ],
          "name": "stdout"
        }
      ]
    },
    {
      "cell_type": "markdown",
      "metadata": {
        "id": "OQAc5xtouq1R",
        "colab_type": "text"
      },
      "source": [
        "3.python program to check leap year."
      ]
    },
    {
      "cell_type": "code",
      "metadata": {
        "id": "WyFLh7mmu0CZ",
        "colab_type": "code",
        "colab": {
          "base_uri": "https://localhost:8080/",
          "height": 51
        },
        "outputId": "64eff401-570f-400e-d636-488284263e59"
      },
      "source": [
        "year=int(input(\"Enter a year\"))\n",
        "if year % 4 == 0 and year % 100 != 0:\n",
        "    print(year, \"is a Leap Year\")\n",
        "elif year % 100 == 0:\n",
        "    print(year, \"is not a Leap Year\")\n",
        "elif year % 400 ==0:\n",
        "    print(year, \"is a Leap Year\")\n",
        "else:\n",
        "    print(year, \"is not a Leap Year\")"
      ],
      "execution_count": null,
      "outputs": [
        {
          "output_type": "stream",
          "text": [
            "Enter a year2019\n",
            "2019 is not a Leap Year\n"
          ],
          "name": "stdout"
        }
      ]
    },
    {
      "cell_type": "markdown",
      "metadata": {
        "id": "lyIg9wvcxgBo",
        "colab_type": "text"
      },
      "source": [
        " 4.python program to print the Fibonacci sequence."
      ]
    },
    {
      "cell_type": "code",
      "metadata": {
        "id": "niM7LPkJx23M",
        "colab_type": "code",
        "colab": {
          "base_uri": "https://localhost:8080/",
          "height": 71
        },
        "outputId": "9eec928a-4cfb-475c-b617-39520c5d36f5"
      },
      "source": [
        "  n=int(input(\"Enter the value of n \")) \n",
        "  a=0\n",
        "  b=1 \n",
        "  sum=0\n",
        "  count=1\n",
        "  print(\"fibonacci sequence\",end=\" \")\n",
        "  while(count<=n):\n",
        "    print(sum, end=\" \") \n",
        "    count+=1\n",
        "    a=b\n",
        "    b=sum\n",
        "    sum=a+b"
      ],
      "execution_count": 46,
      "outputs": [
        {
          "output_type": "stream",
          "text": [
            "Enter the value of n 15\n",
            "fibonacci sequence 0 1 1 2 3 5 8 13 21 34 55 89 144 233 377 "
          ],
          "name": "stdout"
        }
      ]
    },
    {
      "cell_type": "markdown",
      "metadata": {
        "id": "PbwldbAL-KqC",
        "colab_type": "text"
      },
      "source": [
        "5.python program to check Armstrong number."
      ]
    },
    {
      "cell_type": "code",
      "metadata": {
        "id": "YtNm-7IP-WQT",
        "colab_type": "code",
        "colab": {
          "base_uri": "https://localhost:8080/",
          "height": 51
        },
        "outputId": "dc21f7e6-f9eb-40c8-a1f7-04a9f5192b5e"
      },
      "source": [
        " \n",
        "num = int(input(\"Enter a number: \"))\n",
        "sum = 0\n",
        "temp = num\n",
        "while temp > 0:\n",
        "   digit = temp % 10\n",
        "   sum += digit ** 3\n",
        "   temp //= 10\n",
        "if num == sum:\n",
        "   print(num,\"is an Armstrong number\")\n",
        "else:\n",
        "   print(num,\"is not an Armstrong number\")"
      ],
      "execution_count": 47,
      "outputs": [
        {
          "output_type": "stream",
          "text": [
            "Enter a number: 153\n",
            "153 is an Armstrong number\n"
          ],
          "name": "stdout"
        }
      ]
    },
    {
      "cell_type": "markdown",
      "metadata": {
        "id": "JuCxr50y_X_2",
        "colab_type": "text"
      },
      "source": [
        " 6.python program to find Armstrong number in an interval."
      ]
    },
    {
      "cell_type": "code",
      "metadata": {
        "id": "jdeZHYV8AOyL",
        "colab_type": "code",
        "colab": {
          "base_uri": "https://localhost:8080/",
          "height": 121
        },
        "outputId": "c384659f-7f39-4371-e0ba-029da047b7f3"
      },
      "source": [
        " \n",
        "lower = int(input(\"Enter lower range: \"))\n",
        "upper = int(input(\"Enter upper range: \"))\n",
        "for num in range(lower,upper + 1):\n",
        "  sum = 0\n",
        "  temp = num\n",
        "  while temp > 0:\n",
        "       digit = temp % 10\n",
        "       sum += digit ** 3\n",
        "       temp //= 10\n",
        "  if num == sum:\n",
        "       print(num)"
      ],
      "execution_count": 53,
      "outputs": [
        {
          "output_type": "stream",
          "text": [
            "Enter lower range: 100\n",
            "Enter upper range: 2000\n",
            "153\n",
            "370\n",
            "371\n",
            "407\n"
          ],
          "name": "stdout"
        }
      ]
    }
  ]
}