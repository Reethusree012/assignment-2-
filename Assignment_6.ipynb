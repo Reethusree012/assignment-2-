{
  "nbformat": 4,
  "nbformat_minor": 0,
  "metadata": {
    "colab": {
      "name": "Assignment 6",
      "provenance": [],
      "collapsed_sections": [],
      "authorship_tag": "ABX9TyNlQAN1oYkfTcdaWuDQY6ZS",
      "include_colab_link": true
    },
    "kernelspec": {
      "name": "python3",
      "display_name": "Python 3"
    }
  },
  "cells": [
    {
      "cell_type": "markdown",
      "metadata": {
        "id": "view-in-github",
        "colab_type": "text"
      },
      "source": [
        "<a href=\"https://colab.research.google.com/github/Reethusree012/assignment-2-/blob/master/Assignment_6.ipynb\" target=\"_parent\"><img src=\"https://colab.research.google.com/assets/colab-badge.svg\" alt=\"Open In Colab\"/></a>"
      ]
    },
    {
      "cell_type": "code",
      "metadata": {
        "id": "04rFxEKcCPoS",
        "colab_type": "code",
        "colab": {}
      },
      "source": [
        ""
      ],
      "execution_count": null,
      "outputs": []
    },
    {
      "cell_type": "markdown",
      "metadata": {
        "id": "swNUPaPkCQ-O",
        "colab_type": "text"
      },
      "source": [
        " 1.Convert Binary number to decimal."
      ]
    },
    {
      "cell_type": "code",
      "metadata": {
        "id": "MNWzN8QwCceW",
        "colab_type": "code",
        "colab": {
          "base_uri": "https://localhost:8080/",
          "height": 71
        },
        "outputId": "2973cdb5-5b26-47f7-f758-b137b73e31c9"
      },
      "source": [
        "b_num=list(input(\"Enter a binary number\")) \n",
        "value=0\n",
        "for i in range(len(b_num)):\n",
        " digit=b_num.pop() \n",
        " if digit=='1':\n",
        "   value =value+pow(2, i) \n",
        "print(\"The decimal value if the number is\",value)"
      ],
      "execution_count": null,
      "outputs": [
        {
          "output_type": "stream",
          "text": [
            "Enter a binary number100110\n",
            "The decimal value if the number is 38\n"
          ],
          "name": "stdout"
        }
      ]
    },
    {
      "cell_type": "markdown",
      "metadata": {
        "id": "2jETwkNtFdMt",
        "colab_type": "text"
      },
      "source": [
        "2. Generate first N number of Fibonacci numbers. Take N value from user"
      ]
    },
    {
      "cell_type": "code",
      "metadata": {
        "id": "0hrkrh2yFhde",
        "colab_type": "code",
        "colab": {
          "base_uri": "https://localhost:8080/",
          "height": 71
        },
        "outputId": "e5e00f32-76a5-460f-c906-9d88f9f62cde"
      },
      "source": [
        "n=int(input(\"Enter the value of n \")) \n",
        "a=0\n",
        "b=1\n",
        "sum=0\n",
        "count=1\n",
        "print(\"Fibonacci series\",end=\"\") \n",
        "while (count<=n):\n",
        "  print(sum, end=\"\") \n",
        "  count+=1\n",
        "  a=b\n",
        "  b=sum\n",
        "  sum=a+b"
      ],
      "execution_count": null,
      "outputs": [
        {
          "output_type": "stream",
          "text": [
            "Enter the value of n 38\n",
            "Fibonacci series0112358132134558914423337761098715972584418167651094617711286574636875025121393196418317811514229832040134626921783093524578570288792274651493035224157817"
          ],
          "name": "stdout"
        }
      ]
    },
    {
      "cell_type": "markdown",
      "metadata": {
        "id": "uGHWRALOHXOb",
        "colab_type": "text"
      },
      "source": [
        "3.Display multiplication table of K. Take k value from user"
      ]
    },
    {
      "cell_type": "code",
      "metadata": {
        "id": "UGgFD0ddHftX",
        "colab_type": "code",
        "colab": {
          "base_uri": "https://localhost:8080/",
          "height": 208
        },
        "outputId": "645224bc-387f-4a39-bcf7-b9e561310a11"
      },
      "source": [
        " \n",
        "k= int(input(\"Show the multiplication table of \"))   \n",
        "for i in range(1,11):  \n",
        "   print(k,'x',i,'=',k*i)"
      ],
      "execution_count": null,
      "outputs": [
        {
          "output_type": "stream",
          "text": [
            "Show the multiplication table of 5\n",
            "5 x 1 = 5\n",
            "5 x 2 = 10\n",
            "5 x 3 = 15\n",
            "5 x 4 = 20\n",
            "5 x 5 = 25\n",
            "5 x 6 = 30\n",
            "5 x 7 = 35\n",
            "5 x 8 = 40\n",
            "5 x 9 = 45\n",
            "5 x 10 = 50\n"
          ],
          "name": "stdout"
        }
      ]
    },
    {
      "cell_type": "markdown",
      "metadata": {
        "id": "GWtG9tMOKIw3",
        "colab_type": "text"
      },
      "source": [
        "4.Take 10 integers from keyboard using loop and print their average value on the screen Print the   following patterns using loop : \n",
        "     * \n",
        "     ** \n",
        "     *** \n",
        "     ****"
      ]
    },
    {
      "cell_type": "code",
      "metadata": {
        "id": "N4TnE1-SPNip",
        "colab_type": "code",
        "colab": {
          "base_uri": "https://localhost:8080/",
          "height": 451
        },
        "outputId": "6bc8246f-81be-4020-8eec-95897b850f18"
      },
      "source": [
        "sum = 0\n",
        " \n",
        "i = 10\n",
        "while i>0:\n",
        "  print (\"Enter number\")\n",
        "  num = int(input())\n",
        "  sum = sum + num\n",
        "  i = i-1\n",
        "print (\"average is\",sum/10.0)\n",
        "# to print the patern\n",
        "i = 1\n",
        "while i<=4:\n",
        "  print (\"*\"*i)\n",
        "  i = i+1"
      ],
      "execution_count": 1,
      "outputs": [
        {
          "output_type": "stream",
          "text": [
            "Enter number\n",
            "1\n",
            "Enter number\n",
            "2\n",
            "Enter number\n",
            "3\n",
            "Enter number\n",
            "4\n",
            "Enter number\n",
            "5\n",
            "Enter number\n",
            "6\n",
            "Enter number\n",
            "7\n",
            "Enter number\n",
            "8\n",
            "Enter number\n",
            "9\n",
            "Enter number\n",
            "10\n",
            "average is 5.5\n",
            "*\n",
            "**\n",
            "***\n",
            "****\n"
          ],
          "name": "stdout"
        }
      ]
    },
    {
      "cell_type": "markdown",
      "metadata": {
        "id": "rjhcpYpYRCm4",
        "colab_type": "text"
      },
      "source": [
        "5.Write a program to find greatest common divisor (GCD) or highest common factor (HCF) of given two numbers."
      ]
    },
    {
      "cell_type": "code",
      "metadata": {
        "id": "JlkEFHpbRiIt",
        "colab_type": "code",
        "colab": {
          "base_uri": "https://localhost:8080/",
          "height": 69
        },
        "outputId": "49434071-89e3-458e-9924-246660ceff4e"
      },
      "source": [
        " num1=int(input(\"enter 1st number:\"))\n",
        "num2=int(input(\"enter 2nd number:\"))\n",
        "i=1\n",
        "while(i <= num1 and i <= num2):\n",
        "  if(num1 % i==0 and num2 % i==0):\n",
        "    gcd=i\n",
        "  i=i+1\n",
        "print(\"GCD is\", gcd)"
      ],
      "execution_count": null,
      "outputs": [
        {
          "output_type": "stream",
          "text": [
            "enter 1st number:12\n",
            "enter 2nd number:16\n",
            "GCD is 4\n"
          ],
          "name": "stdout"
        }
      ]
    },
    {
      "cell_type": "markdown",
      "metadata": {
        "id": "zGGmqdFyRifP",
        "colab_type": "text"
      },
      "source": [
        " 6.Write a Python program that accepts a word from the user and reverse it."
      ]
    },
    {
      "cell_type": "code",
      "metadata": {
        "id": "8mUppvcyRpMi",
        "colab_type": "code",
        "colab": {
          "base_uri": "https://localhost:8080/",
          "height": 51
        },
        "outputId": "59fa482b-c424-49a9-d0e0-a40e1c74d496"
      },
      "source": [
        " word=input(\"input a word to reverse:\")\n",
        " \n",
        "for char in range(len(word)-1,-1,-1):\n",
        "  print(word[char],end=\"\")"
      ],
      "execution_count": null,
      "outputs": [
        {
          "output_type": "stream",
          "text": [
            "input a word to reverse:MADAM\n",
            "MADAM"
          ],
          "name": "stdout"
        }
      ]
    },
    {
      "cell_type": "markdown",
      "metadata": {
        "id": "Qp7-1xFCRrL7",
        "colab_type": "text"
      },
      "source": [
        "7.Write a Python program to count the number of even and odd numbers from a series of numbers."
      ]
    },
    {
      "cell_type": "code",
      "metadata": {
        "id": "VXrHKQmTR189",
        "colab_type": "code",
        "colab": {
          "base_uri": "https://localhost:8080/",
          "height": 51
        },
        "outputId": "3d6b2856-4db4-4fc7-df26-85c82b410a57"
      },
      "source": [
        " numbers=(1,2,3,4,5,6,7,8,9,10)\n",
        "count_odd=0\n",
        "count_even=0\n",
        "for x in numbers:\n",
        "     if not x % 2:\n",
        "        count_even+=1\n",
        "     else:\n",
        "        count_odd+=1\n",
        "print(\"number of even numbers:\",count_even)\n",
        "print(\"number of odd numbers:\",count_odd)"
      ],
      "execution_count": null,
      "outputs": [
        {
          "output_type": "stream",
          "text": [
            "number of even numbers: 5\n",
            "number of odd numbers: 5\n"
          ],
          "name": "stdout"
        }
      ]
    },
    {
      "cell_type": "markdown",
      "metadata": {
        "id": "gfKd_GQMR3U7",
        "colab_type": "text"
      },
      "source": [
        "8.Write a Python program that prints all the numbers from 0 to 6 except 3 and 6."
      ]
    },
    {
      "cell_type": "code",
      "metadata": {
        "id": "QPZdKcD9Ug38",
        "colab_type": "code",
        "colab": {
          "base_uri": "https://localhost:8080/",
          "height": 34
        },
        "outputId": "d6e11f47-2233-4075-bb7d-537137ce7345"
      },
      "source": [
        " for x in range(6):\n",
        "   if (x==3 or x==6):\n",
        "     continue\n",
        "   print(x,end =\"\")"
      ],
      "execution_count": null,
      "outputs": [
        {
          "output_type": "stream",
          "text": [
            "01245"
          ],
          "name": "stdout"
        }
      ]
    }
  ]
}