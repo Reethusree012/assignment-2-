{
  "nbformat": 4,
  "nbformat_minor": 0,
  "metadata": {
    "colab": {
      "name": "Untitled1.ipynb",
      "provenance": [],
      "authorship_tag": "ABX9TyMJmWTATf1X4KZbKDD63uhS",
      "include_colab_link": true
    },
    "kernelspec": {
      "name": "python3",
      "display_name": "Python 3"
    }
  },
  "cells": [
    {
      "cell_type": "markdown",
      "metadata": {
        "id": "view-in-github",
        "colab_type": "text"
      },
      "source": [
        "<a href=\"https://colab.research.google.com/github/Reethusree012/assignment-2-/blob/master/Untitled1.ipynb\" target=\"_parent\"><img src=\"https://colab.research.google.com/assets/colab-badge.svg\" alt=\"Open In Colab\"/></a>"
      ]
    },
    {
      "cell_type": "code",
      "metadata": {
        "id": "Cf54iIMmRDie",
        "colab": {
          "base_uri": "https://localhost:8080/"
        },
        "outputId": "ed307ef2-d549-48e8-8ee4-d1b14a9bb237"
      },
      "source": [
        " \n",
        "import numpy as np\n",
        " \n",
        "class Graph:\n",
        " \n",
        "    def __init__(self, vertices):\n",
        "        self._adjMat = np.zeros((vertices, vertices))\n",
        "        self._vertices = vertices\n",
        "        self._visited = [0] * vertices\n",
        " \n",
        "    def insert_edge(self, u, v, x=1):\n",
        "        self._adjMat[u][v] = x\n",
        " \n",
        "    def remove_edge(self, u, v):\n",
        "        self._adjMat[u][v] = 0\n",
        " \n",
        "    def exist_edge(self, u, v):\n",
        "        return self._adjMat[u][v] != 0\n",
        " \n",
        "    def vertex_count(self):\n",
        "        return self._vertices\n",
        "    def edge_count(self):\n",
        "        count = 0\n",
        "        for i in range(self._vertices):\n",
        "            for j in range(self._vertices):\n",
        "                if self._adjMat[i][j] != 0:\n",
        "                    count += 1\n",
        "        return count\n",
        " \n",
        "    def vertices(self):\n",
        "        for i in range(self._vertices):\n",
        "            print(i,end=' ')\n",
        "        print()\n",
        " \n",
        "    def edges(self):\n",
        "        for i in range(self._vertices):\n",
        "            for j in range(self._vertices):\n",
        "                if self._adjMat[i][j] != 0:\n",
        "                    print(i,'--',j)\n",
        " \n",
        "    def outdegree(self, v):\n",
        "        count = 0\n",
        "        for j in range(self._vertices):\n",
        "            if not self._adjMat[v][j] == 0:\n",
        "                count += 1\n",
        "        return count\n",
        "    def indegree(self, v):\n",
        "        count = 0\n",
        "        for j in range(self._vertices):\n",
        "            if not self._adjMat[j][v] == 0:\n",
        "                count += 1\n",
        "        return count\n",
        " \n",
        "    def display_adjMat(self):\n",
        "        print(self._adjMat)\n",
        " \n",
        "    def DFS(self,s):\n",
        "        if self._visited[s]==0:\n",
        "            print(s,end=' ')\n",
        "            self._visited[s]=1\n",
        "            for j in range(self._vertices):\n",
        "                if self._adjMat[s][j]==1 and self._visited[j]==0:\n",
        "                    self.DFS(j)\n",
        "G = Graph(7)\n",
        "G.insert_edge(0, 1)\n",
        "G.insert_edge(0, 5)\n",
        "G.insert_edge(0, 6)\n",
        "G.insert_edge(1, 0)\n",
        "G.insert_edge(1, 2)\n",
        "G.insert_edge(1, 5)\n",
        "G.insert_edge(1, 6)\n",
        "G.insert_edge(2, 3)\n",
        "G.insert_edge(2, 4)\n",
        "G.insert_edge(2, 6)\n",
        "G.insert_edge(3, 4)\n",
        "G.insert_edge(4, 2)\n",
        "G.insert_edge(4, 5)\n",
        "G.insert_edge(5, 2)\n",
        "G.insert_edge(5, 3)\n",
        "G.insert_edge(6, 3)\n",
        "print('Edges:')\n",
        "G.edges()\n",
        "print('DFS:')\n",
        "G.DFS(0)"
      ],
      "execution_count": null,
      "outputs": [
        {
          "output_type": "stream",
          "text": [
            "Edges:\n",
            "0 -- 1\n",
            "0 -- 5\n",
            "0 -- 6\n",
            "1 -- 0\n",
            "1 -- 2\n",
            "1 -- 5\n",
            "1 -- 6\n",
            "2 -- 3\n",
            "2 -- 4\n",
            "2 -- 6\n",
            "3 -- 4\n",
            "4 -- 2\n",
            "4 -- 5\n",
            "5 -- 2\n",
            "5 -- 3\n",
            "6 -- 3\n",
            "DFS:\n",
            "0 1 2 3 4 5 6 "
          ],
          "name": "stdout"
        }
      ]
    }
  ]
}