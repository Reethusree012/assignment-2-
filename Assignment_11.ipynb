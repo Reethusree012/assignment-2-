{
  "nbformat": 4,
  "nbformat_minor": 0,
  "metadata": {
    "colab": {
      "name": "Assignment-11.ipynb",
      "provenance": [],
      "authorship_tag": "ABX9TyM/YzmT83KHojT1GkdqaGVJ",
      "include_colab_link": true
    },
    "kernelspec": {
      "name": "python3",
      "display_name": "Python 3"
    }
  },
  "cells": [
    {
      "cell_type": "markdown",
      "metadata": {
        "id": "view-in-github",
        "colab_type": "text"
      },
      "source": [
        "<a href=\"https://colab.research.google.com/github/Reethusree012/assignment-2-/blob/master/Assignment_11.ipynb\" target=\"_parent\"><img src=\"https://colab.research.google.com/assets/colab-badge.svg\" alt=\"Open In Colab\"/></a>"
      ]
    },
    {
      "cell_type": "code",
      "metadata": {
        "id": "BwAq-y-MvQ1H",
        "colab_type": "code",
        "colab": {}
      },
      "source": [
        ""
      ],
      "execution_count": null,
      "outputs": []
    },
    {
      "cell_type": "markdown",
      "metadata": {
        "id": "RmfNnpOTvSBG",
        "colab_type": "text"
      },
      "source": [
        " 1.Write a python program to create a tuple"
      ]
    },
    {
      "cell_type": "code",
      "metadata": {
        "id": "LW26AnmnwFtY",
        "colab_type": "code",
        "colab": {
          "base_uri": "https://localhost:8080/",
          "height": 34
        },
        "outputId": "330a074d-c19b-454e-8de9-2b9becbd59bb"
      },
      "source": [
        " \n",
        "my_tuple = (\"hello\",)\n",
        "print(my_tuple)"
      ],
      "execution_count": 8,
      "outputs": [
        {
          "output_type": "stream",
          "text": [
            "('hello',)\n"
          ],
          "name": "stdout"
        }
      ]
    },
    {
      "cell_type": "markdown",
      "metadata": {
        "id": "ou_1Ro_8wl8w",
        "colab_type": "text"
      },
      "source": [
        "2.write a python program to create a tuple with different data types."
      ]
    },
    {
      "cell_type": "code",
      "metadata": {
        "id": "l_DqCuhOw_as",
        "colab_type": "code",
        "colab": {
          "base_uri": "https://localhost:8080/",
          "height": 86
        },
        "outputId": "37c43499-58f5-4349-9eda-4bdbb99db9b8"
      },
      "source": [
        " # Different types of tuples\n",
        " \n",
        "# Empty tuple\n",
        "my_tuple = ()\n",
        "print(my_tuple)\n",
        " \n",
        "# Tuple having integers\n",
        "my_tuple = (1, 2, 3)\n",
        "print(my_tuple)\n",
        " \n",
        "# tuple with mixed datatypes\n",
        "my_tuple = (1, \"Hello\", 3.4)\n",
        "print(my_tuple)\n",
        " \n",
        "# nested tuple\n",
        "my_tuple = (\"mouse\", [8, 4, 6], (1, 2, 3))\n",
        "print(my_tuple)"
      ],
      "execution_count": 4,
      "outputs": [
        {
          "output_type": "stream",
          "text": [
            "()\n",
            "(1, 2, 3)\n",
            "(1, 'Hello', 3.4)\n",
            "('mouse', [8, 4, 6], (1, 2, 3))\n"
          ],
          "name": "stdout"
        }
      ]
    },
    {
      "cell_type": "markdown",
      "metadata": {
        "id": "zAKeGRlXx1lV",
        "colab_type": "text"
      },
      "source": [
        " 3.write a python program to convert a tuple to a string."
      ]
    },
    {
      "cell_type": "code",
      "metadata": {
        "id": "O-uVIJntyHBT",
        "colab_type": "code",
        "colab": {
          "base_uri": "https://localhost:8080/",
          "height": 34
        },
        "outputId": "c5b532ff-9d20-4bb1-d76c-36b8ff86affb"
      },
      "source": [
        " tup = ('p', 'y', 't', 'h', 'o','n')\n",
        "str =  ''.join(tup)\n",
        "print(str)"
      ],
      "execution_count": 10,
      "outputs": [
        {
          "output_type": "stream",
          "text": [
            "python\n"
          ],
          "name": "stdout"
        }
      ]
    },
    {
      "cell_type": "markdown",
      "metadata": {
        "id": "e6PZtOhPysAT",
        "colab_type": "text"
      },
      "source": [
        "4.write a python program to slice a tuple."
      ]
    },
    {
      "cell_type": "code",
      "metadata": {
        "id": "C1J9S_FpzgSj",
        "colab_type": "code",
        "colab": {
          "base_uri": "https://localhost:8080/",
          "height": 106
        },
        "outputId": "b87626f9-1475-471c-e93b-74b5c0629bfb"
      },
      "source": [
        " tuplex = tuple(\"HELLO WORLD\")\n",
        "print(tuplex)\n",
        " _slice = tuplex[2:9:2]\n",
        "print(_slice) \n",
        " _slice = tuplex[::4]\n",
        "print(_slice)\n",
        " _slice = tuplex[9:2:-4]\n",
        "print(_slice)"
      ],
      "execution_count": 11,
      "outputs": [
        {
          "output_type": "stream",
          "text": [
            "('H', 'E', 'L', 'L', 'O', ' ', 'W', 'O', 'R', 'L', 'D')\n",
            "('L', 'O', 'W', 'R')\n",
            "('H', 'O', 'R')\n",
            "('L', ' ')\n"
          ],
          "name": "stdout"
        }
      ]
    },
    {
      "cell_type": "markdown",
      "metadata": {
        "id": "ylDdYvQBzw-N",
        "colab_type": "text"
      },
      "source": [
        "5.Write a python program to the length of a tuple."
      ]
    },
    {
      "cell_type": "code",
      "metadata": {
        "id": "FWpnvYSZz5D0",
        "colab_type": "code",
        "colab": {
          "base_uri": "https://localhost:8080/",
          "height": 71
        },
        "outputId": "925209b4-a935-48b6-a4d4-12143a022866"
      },
      "source": [
        " tuplex = tuple(\"python programming\")\n",
        "print(tuplex)\n",
        "print(len(tuplex))"
      ],
      "execution_count": 12,
      "outputs": [
        {
          "output_type": "stream",
          "text": [
            "('p', 'y', 't', 'h', 'o', 'n', ' ', 'p', 'r', 'o', 'g', 'r', 'a', 'm', 'm', 'i', 'n', 'g')\n",
            "18\n"
          ],
          "name": "stdout"
        }
      ]
    },
    {
      "cell_type": "markdown",
      "metadata": {
        "id": "P40lwaHE0cGh",
        "colab_type": "text"
      },
      "source": [
        "6.write a python program to reverse a tuple"
      ]
    },
    {
      "cell_type": "code",
      "metadata": {
        "id": "cVAuNDlU0qqM",
        "colab_type": "code",
        "colab": {
          "base_uri": "https://localhost:8080/",
          "height": 34
        },
        "outputId": "f1932a84-2241-4c75-a0fa-b733f3bf75f9"
      },
      "source": [
        " x = (\"python\")\n",
        "y = reversed(x)\n",
        "print(tuple(y))"
      ],
      "execution_count": 13,
      "outputs": [
        {
          "output_type": "stream",
          "text": [
            "('n', 'o', 'h', 't', 'y', 'p')\n"
          ],
          "name": "stdout"
        }
      ]
    },
    {
      "cell_type": "markdown",
      "metadata": {
        "id": "8VCzMar61Apz",
        "colab_type": "text"
      },
      "source": [
        " 7.write a python program to convert a list to a tuple."
      ]
    },
    {
      "cell_type": "code",
      "metadata": {
        "id": "9isKunw61QDd",
        "colab_type": "code",
        "colab": {
          "base_uri": "https://localhost:8080/",
          "height": 34
        },
        "outputId": "b1deaaaa-d8bc-46cc-da09-85ad626148bd"
      },
      "source": [
        " listx = [5, 10, 7, 4, 15, 3]\n",
        "tuplex = tuple(listx)\n",
        "print(tuplex)"
      ],
      "execution_count": 14,
      "outputs": [
        {
          "output_type": "stream",
          "text": [
            "(5, 10, 7, 4, 15, 3)\n"
          ],
          "name": "stdout"
        }
      ]
    }
  ]
}