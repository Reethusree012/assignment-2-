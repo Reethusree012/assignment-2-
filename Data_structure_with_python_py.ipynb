{
  "nbformat": 4,
  "nbformat_minor": 0,
  "metadata": {
    "colab": {
      "name": "Data structure with python.py",
      "provenance": [],
      "collapsed_sections": [],
      "authorship_tag": "ABX9TyMl4x74MloKTM9PtBcUKGgv",
      "include_colab_link": true
    },
    "kernelspec": {
      "name": "python3",
      "display_name": "Python 3"
    }
  },
  "cells": [
    {
      "cell_type": "markdown",
      "metadata": {
        "id": "view-in-github",
        "colab_type": "text"
      },
      "source": [
        "<a href=\"https://colab.research.google.com/github/Reethusree012/assignment-2-/blob/master/Data_structure_with_python_py.ipynb\" target=\"_parent\"><img src=\"https://colab.research.google.com/assets/colab-badge.svg\" alt=\"Open In Colab\"/></a>"
      ]
    },
    {
      "cell_type": "markdown",
      "metadata": {
        "id": "Mws03tX267u6",
        "colab_type": "text"
      },
      "source": [
        "1.Write a python program to print the following string in a specific format (see the output)."
      ]
    },
    {
      "cell_type": "code",
      "metadata": {
        "id": "feb-anVM80aK",
        "colab_type": "code",
        "colab": {
          "base_uri": "https://localhost:8080/",
          "height": 149
        },
        "outputId": "72d40f5c-287e-46d4-bef3-b1bd0dd9fa52"
      },
      "source": [
        " string :\"Twinkle,twinkle,little star,How i wonder what you are! Up above the world so high like a diomond in the sky .Twinkle,twinkle,little star,how i wonder what you are\"\n",
        "[1]\n",
        "print(\"Twinkle, twinkle, little star, \\n\\tHow I wonder what you are! \\n\\t\\tUp above the world so high, \\n\\t\\tLike a diamond in the sky. \\nTwinkle, twinkle, little star, \\n\\tHow I wonder what you are\")"
      ],
      "execution_count": null,
      "outputs": [
        {
          "output_type": "stream",
          "text": [
            "Twinkle, twinkle, little star, \n",
            "\tHow I wonder what you are! \n",
            "\t\tUp above the world so high, \n",
            "\t\tLike a diamond in the sky. \n",
            "Twinkle, twinkle, little star, \n",
            "\tHow I wonder what you are\n"
          ],
          "name": "stdout"
        }
      ]
    },
    {
      "cell_type": "markdown",
      "metadata": {
        "id": "NVfa47WB9GJ6",
        "colab_type": "text"
      },
      "source": [
        "2.Write a python program to test whether a number is within 100 of 1000 or 2000."
      ]
    },
    {
      "cell_type": "code",
      "metadata": {
        "id": "UocmZMBl-fua",
        "colab_type": "code",
        "colab": {
          "base_uri": "https://localhost:8080/",
          "height": 86
        },
        "outputId": "c4d0b33d-83cd-42fc-cd92-36cb80e5b931"
      },
      "source": [
        " def near_thousand(n):\n",
        "      return ((abs(1000 - n) <= 100) or (abs(2000 - n) <= 100))\n",
        "print(near_thousand(1700))\n",
        "print(near_thousand(900))\n",
        "print(near_thousand(200))   \n",
        "print(near_thousand(1000))"
      ],
      "execution_count": null,
      "outputs": [
        {
          "output_type": "stream",
          "text": [
            "False\n",
            "True\n",
            "False\n",
            "True\n"
          ],
          "name": "stdout"
        }
      ]
    },
    {
      "cell_type": "markdown",
      "metadata": {
        "id": "JBIIBbpw_Aiw",
        "colab_type": "text"
      },
      "source": [
        "3.Write a python program to calculate the sum of three given numbers,if the values are equal then return three of their sum."
      ]
    },
    {
      "cell_type": "code",
      "metadata": {
        "id": "nQNKDPofEicO",
        "colab_type": "code",
        "colab": {}
      },
      "source": [
        " def sum_thrice(x, y, z):\n",
        "     sum = x + y + z\n",
        "     if x == y == z:\n",
        "      sum = sum * 3\n",
        "     return sum\n",
        "print(sum_thrice(1, 2, 3))\n",
        "print(sum_thrice(1, 6, 2))"
      ],
      "execution_count": null,
      "outputs": []
    },
    {
      "cell_type": "markdown",
      "metadata": {
        "id": "JoqPxgPqZj0F",
        "colab_type": "text"
      },
      "source": [
        "4. Write a python program to find whatever a given number(accept from the user) is even or odd , print out an appropriate message to the user."
      ]
    },
    {
      "cell_type": "code",
      "metadata": {
        "id": "G_4R4HmGZuKo",
        "colab_type": "code",
        "colab": {
          "base_uri": "https://localhost:8080/",
          "height": 51
        },
        "outputId": "585217a8-df91-46d8-a597-e1d32114d636"
      },
      "source": [
        " \n",
        "num = int(input(\"Enter a number: \"))\n",
        "mod = num % 2\n",
        "if mod > 0:\n",
        "    print(\"The given number is odd number.\")\n",
        "else:\n",
        "    print(\"the given number is even number.\")"
      ],
      "execution_count": null,
      "outputs": [
        {
          "output_type": "stream",
          "text": [
            "Enter a number: 38\n",
            "the given number is even number.\n"
          ],
          "name": "stdout"
        }
      ]
    },
    {
      "cell_type": "markdown",
      "metadata": {
        "id": "noKx1X_bZ3n5",
        "colab_type": "text"
      },
      "source": [
        " 5. Write a python program to get a string made of the first 2 and the last 2 chars from a given string .if the string length is less than 2,return instead of the empty string."
      ]
    },
    {
      "cell_type": "code",
      "metadata": {
        "id": "IvNbIxvUZ8Ui",
        "colab_type": "code",
        "colab": {
          "base_uri": "https://localhost:8080/",
          "height": 86
        },
        "outputId": "768e62fd-ae89-4b5d-ea8d-cdb2893fc460"
      },
      "source": [
        " \n",
        "def string_both_ends(str):\n",
        "  if len(str) < 2:\n",
        "    return ''\n",
        "  return str[0:2] + str[-2:]\n",
        "print(string_both_ends('python'))\n",
        "print(string_both_ends('pyth'))\n",
        "print(string_both_ends('py'))\n",
        "print(string_both_ends('p'))"
      ],
      "execution_count": null,
      "outputs": [
        {
          "output_type": "stream",
          "text": [
            "pyon\n",
            "pyth\n",
            "pypy\n",
            "\n"
          ],
          "name": "stdout"
        }
      ]
    },
    {
      "cell_type": "markdown",
      "metadata": {
        "id": "6wIn6pu1aQID",
        "colab_type": "text"
      },
      "source": [
        "6.Write a python program to get a single string from two given strings ,seperated by a space and swap the first two characters of each strings."
      ]
    },
    {
      "cell_type": "code",
      "metadata": {
        "id": "DYy_yQDYagO4",
        "colab_type": "code",
        "colab": {
          "base_uri": "https://localhost:8080/",
          "height": 34
        },
        "outputId": "742557fd-e1ba-49b1-9c9a-adbe40d0989e"
      },
      "source": [
        " \n",
        "def chars_mix_up(a, b):\n",
        "  new_a = b[:2] + a[2:]\n",
        "  new_b = a[:2] + b[2:]\n",
        " \n",
        "  return new_a + ' ' + new_b\n",
        "print(chars_mix_up('reethu', 'sree'))"
      ],
      "execution_count": null,
      "outputs": [
        {
          "output_type": "stream",
          "text": [
            "srethu reee\n"
          ],
          "name": "stdout"
        }
      ]
    },
    {
      "cell_type": "markdown",
      "metadata": {
        "id": "oFZ3StPAayTf",
        "colab_type": "text"
      },
      "source": [
        "7.Write a python program to find apperance of the substring 'not' and 'poor' from a given string ,if 'not' follows the 'poor',replace the whole 'not'...'poor' substring with 'good'."
      ]
    },
    {
      "cell_type": "code",
      "metadata": {
        "id": "5U4G1zWRa4yd",
        "colab_type": "code",
        "colab": {
          "base_uri": "https://localhost:8080/",
          "height": 51
        },
        "outputId": "1176ded7-b79c-441e-a496-bc49fd1b34ac"
      },
      "source": [
        " \n",
        "def not_poor(str1):\n",
        "  snot = str1.find('not')\n",
        "  spoor = str1.find('poor')\n",
        "  if spoor > snot and snot>0 and spoor>0:\n",
        "    str1 = str1.replace(str1[snot:(spoor+4)], 'good')\n",
        "    return str1\n",
        "  else:\n",
        "    return str1\n",
        "print(not_poor('lyrics is not that poor!'))\n",
        "print(not_poor('lyrics is poor!'))"
      ],
      "execution_count": null,
      "outputs": [
        {
          "output_type": "stream",
          "text": [
            "lyrics is good!\n",
            "lyrics is poor!\n"
          ],
          "name": "stdout"
        }
      ]
    },
    {
      "cell_type": "markdown",
      "metadata": {
        "id": "9dx3ORsRblIy",
        "colab_type": "text"
      },
      "source": [
        " 8. Write a python program to reverse a string if its length is a multiple of 4."
      ]
    },
    {
      "cell_type": "code",
      "metadata": {
        "id": "rsnvRTSObrKC",
        "colab_type": "code",
        "colab": {
          "base_uri": "https://localhost:8080/",
          "height": 69
        },
        "outputId": "d3577574-eaac-48b7-96ce-386142c163a9"
      },
      "source": [
        " \n",
        "def reverse_string(str1):\n",
        "    if len(str1) % 4 == 0:\n",
        "       return ''.join(reversed(str1))\n",
        "    return str1\n",
        "print(reverse_string('reet'))\n",
        "print(reverse_string('D.reethu'))\n",
        "print(reverse_string('D.reethusree'))"
      ],
      "execution_count": null,
      "outputs": [
        {
          "output_type": "stream",
          "text": [
            "teer\n",
            "uhteer.D\n",
            "eersuhteer.D\n"
          ],
          "name": "stdout"
        }
      ]
    },
    {
      "cell_type": "markdown",
      "metadata": {
        "id": "9-u6muXOcO1P",
        "colab_type": "text"
      },
      "source": [
        " 9. Write a python function to convert all units of time into seconds."
      ]
    },
    {
      "cell_type": "code",
      "metadata": {
        "id": "2IumPa5dca20",
        "colab_type": "code",
        "colab": {
          "base_uri": "https://localhost:8080/",
          "height": 110
        },
        "outputId": "4d37d242-df0b-4954-c918-4e43d8a0213e"
      },
      "source": [
        " \n",
        "days = int(input(\"Input days: \")) * 3600 * 24\n",
        "hours = int(input(\"Input hours: \")) * 3600\n",
        "minutes = int(input(\"Input minutes: \")) * 60\n",
        "seconds = int(input(\"Input seconds: \"))\n",
        "time = days + hours + minutes + seconds\n",
        "print(\"The total seconds is: \", time)"
      ],
      "execution_count": null,
      "outputs": [
        {
          "output_type": "stream",
          "text": [
            "Input days: 360\n",
            "Input hours: 42\n",
            "Input minutes: 25\n",
            "Input seconds: 10\n",
            "The total seconds is:  31256710\n"
          ],
          "name": "stdout"
        }
      ]
    },
    {
      "cell_type": "markdown",
      "metadata": {
        "id": "hNLO8l5ncsS4",
        "colab_type": "text"
      },
      "source": [
        " 10. Write a python program to sort three integers without using conditional statements and loops."
      ]
    },
    {
      "cell_type": "code",
      "metadata": {
        "id": "Ui3NCjUVcteY",
        "colab_type": "code",
        "colab": {
          "base_uri": "https://localhost:8080/",
          "height": 112
        },
        "outputId": "3ad237bd-4364-443f-8388-16e683f3d43d"
      },
      "source": [
        " \n",
        "x = int(input(\"Input first number: \"))\n",
        "y = int(input(\"Input second number: \"))\n",
        "z = int(input(\"Input third number: \"))\n",
        "a1 = min(x, y, z)\n",
        "a3 = max(x, y, z)\n",
        "a2 = (x + y + z) - a1 - a3\n",
        "print(\"Numbers in sorted order: \", a1, a2, a3)"
      ],
      "execution_count": null,
      "outputs": [
        {
          "output_type": "stream",
          "text": [
            "Input first number: 17\n",
            "Input second number: 38\n",
            "Input third number: 13\n",
            "Numbers in sorted order:  13 17 38\n"
          ],
          "name": "stdout"
        }
      ]
    },
    {
      "cell_type": "markdown",
      "metadata": {
        "id": "WO8O64mVfT8a",
        "colab_type": "text"
      },
      "source": [
        "11.Write a python program to get the details of the math module."
      ]
    },
    {
      "cell_type": "code",
      "metadata": {
        "id": "QsplV-frfY2q",
        "colab_type": "code",
        "colab": {
          "base_uri": "https://localhost:8080/",
          "height": 55
        },
        "outputId": "f5c0a84f-923d-4736-eb1f-5aa25f0cd36f"
      },
      "source": [
        " \n",
        " \n",
        "import math            \n",
        "math_ls = dir(math) \n",
        "print(math_ls)"
      ],
      "execution_count": null,
      "outputs": [
        {
          "output_type": "stream",
          "text": [
            "['__doc__', '__loader__', '__name__', '__package__', '__spec__', 'acos', 'acosh', 'asin', 'asinh', 'atan', 'atan2', 'atanh', 'ceil', 'copysign', 'cos', 'cosh', 'degrees', 'e', 'erf', 'erfc', 'exp', 'expm1', 'fabs', 'factorial', 'floor', 'fmod', 'frexp', 'fsum', 'gamma', 'gcd', 'hypot', 'inf', 'isclose', 'isfinite', 'isinf', 'isnan', 'ldexp', 'lgamma', 'log', 'log10', 'log1p', 'log2', 'modf', 'nan', 'pi', 'pow', 'radians', 'sin', 'sinh', 'sqrt', 'tan', 'tanh', 'tau', 'trunc']\n"
          ],
          "name": "stdout"
        }
      ]
    },
    {
      "cell_type": "markdown",
      "metadata": {
        "id": "d9U5Q9zJfeXv",
        "colab_type": "text"
      },
      "source": [
        "12. Write a python program to concatenate N strings."
      ]
    },
    {
      "cell_type": "code",
      "metadata": {
        "id": "9XTG0VrZflOi",
        "colab_type": "code",
        "colab": {
          "base_uri": "https://localhost:8080/",
          "height": 69
        },
        "outputId": "2f89dfa9-3b9f-42e4-cf95-4cddfb293faa"
      },
      "source": [
        " \n",
        "list_of_colors = ['pink', 'purple', 'blue']  \n",
        "colors = '-'.join(list_of_colors)\n",
        "print()\n",
        "print(\"All Colors: \"+colors)\n",
        "print()"
      ],
      "execution_count": null,
      "outputs": [
        {
          "output_type": "stream",
          "text": [
            "\n",
            "All Colors: pink-purple-blue\n",
            "\n"
          ],
          "name": "stdout"
        }
      ]
    }
  ]
}