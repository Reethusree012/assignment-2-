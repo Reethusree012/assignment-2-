{
  "nbformat": 4,
  "nbformat_minor": 0,
  "metadata": {
    "colab": {
      "name": "Data structure with python.py",
      "provenance": [],
      "authorship_tag": "ABX9TyOr9YuNbM/d4bhFdGUgd7ZU",
      "include_colab_link": true
    },
    "kernelspec": {
      "name": "python3",
      "display_name": "Python 3"
    }
  },
  "cells": [
    {
      "cell_type": "markdown",
      "metadata": {
        "id": "view-in-github",
        "colab_type": "text"
      },
      "source": [
        "<a href=\"https://colab.research.google.com/github/Reethusree012/assignment-2-/blob/master/Data_structure_with_python_py.ipynb\" target=\"_parent\"><img src=\"https://colab.research.google.com/assets/colab-badge.svg\" alt=\"Open In Colab\"/></a>"
      ]
    },
    {
      "cell_type": "markdown",
      "metadata": {
        "id": "d56DIIz7D6qk"
      },
      "source": [
        "1. Find minimum of three numbers."
      ]
    },
    {
      "cell_type": "code",
      "metadata": {
        "id": "nwXZ123xEomY",
        "outputId": "9f9a1e1e-e7a4-44ed-a70a-49d651f4c101",
        "colab": {
          "base_uri": "https://localhost:8080/",
          "height": 86
        }
      },
      "source": [
        " \n",
        "a=input(\"enter value of a:\")\n",
        "b=input(\"enter value of b:\")\n",
        "c=input(\"enter value of c:\")\n",
        "if(a < b and a < c): \n",
        " \n",
        "    print(\" ais the minimum\") \n",
        " \n",
        "elif(b < a and b < c): \n",
        " \n",
        "    print(\" b is the minimum\") \n",
        " \n",
        "else: \n",
        " \n",
        "    print(\" c is the minimum\")"
      ],
      "execution_count": 1,
      "outputs": [
        {
          "output_type": "stream",
          "text": [
            "enter value of a:23\n",
            "enter value of b:21\n",
            "enter value of c:2\n",
            " c is the minimum\n"
          ],
          "name": "stdout"
        }
      ]
    },
    {
      "cell_type": "markdown",
      "metadata": {
        "id": "uEUO_P7lFY90"
      },
      "source": [
        " 2.find the GCD and LCM of two/three  numbers."
      ]
    },
    {
      "cell_type": "code",
      "metadata": {
        "id": "-tXnDs3EFrYA",
        "outputId": "eac96ac0-7cb9-4392-cf7e-d8c5a64195e4",
        "colab": {
          "base_uri": "https://localhost:8080/",
          "height": 51
        }
      },
      "source": [
        " \n",
        " \n",
        "def gcd(a,b): \n",
        " \n",
        "    if a == 0: \n",
        " \n",
        "        return b \n",
        " \n",
        "    return gcd(b % a, a) \n",
        "def lcm(a,b): \n",
        " \n",
        "    return (a*b) / gcd(a,b) \n",
        "a = 12\n",
        "b = 20\n",
        "print('LCM of', a, 'and', b, 'is', lcm(a, b))\n",
        "print('GCD of', a, 'and', b, 'is', gcd(a, b))"
      ],
      "execution_count": 2,
      "outputs": [
        {
          "output_type": "stream",
          "text": [
            "LCM of 12 and 20 is 60.0\n",
            "GCD of 12 and 20 is 4\n"
          ],
          "name": "stdout"
        }
      ]
    },
    {
      "cell_type": "markdown",
      "metadata": {
        "id": "AAYtYPytF89h"
      },
      "source": [
        "3.check whether given number is prime or not."
      ]
    },
    {
      "cell_type": "code",
      "metadata": {
        "id": "ork3SdQ2IC8C",
        "outputId": "e2bbd404-1bca-4379-acb8-423590e28ff4",
        "colab": {
          "base_uri": "https://localhost:8080/",
          "height": 51
        }
      },
      "source": [
        " \n",
        "Number = int(input(\" Enter any Number: \"))\n",
        "Sum = 0\n",
        "for i in range(1, Number):\n",
        "    if(Number % i == 0):\n",
        "        Sum = Sum + i\n",
        "if (Sum == Number):\n",
        "    print(\" %d is a Perfect Number\" %Number)\n",
        "else:\n",
        "    print(\" %d is not a Perfect Number\" %Number)"
      ],
      "execution_count": 4,
      "outputs": [
        {
          "output_type": "stream",
          "text": [
            " Enter any Number: 12\n",
            " 12 is not a Perfect Number\n"
          ],
          "name": "stdout"
        }
      ]
    },
    {
      "cell_type": "markdown",
      "metadata": {
        "id": "P0VZu23YISNJ"
      },
      "source": [
        " 4.print twin primes  upto specified limit."
      ]
    },
    {
      "cell_type": "code",
      "metadata": {
        "id": "EzsXeDEbI24R",
        "outputId": "42ab2180-94c5-4f34-f7da-823c87e14370",
        "colab": {
          "base_uri": "https://localhost:8080/",
          "height": 86
        }
      },
      "source": [
        "def is_prime(n):\n",
        "   for i in range(2, n):\n",
        "      if n % i == 0:\n",
        "         return False\n",
        "   return True\n",
        " \n",
        "def generate_twins(start, end):\n",
        "   for i in range(start, end):\n",
        "      j = i + 2\n",
        "      if(is_prime(i) and is_prime(j)):\n",
        "         print(\"{:d} and {:d}\".format(i, j))\n",
        " \n",
        "generate_twins(20, 100)"
      ],
      "execution_count": 8,
      "outputs": [
        {
          "output_type": "stream",
          "text": [
            "29 and 31\n",
            "41 and 43\n",
            "59 and 61\n",
            "71 and 73\n"
          ],
          "name": "stdout"
        }
      ]
    },
    {
      "cell_type": "markdown",
      "metadata": {
        "id": "sIhzWaCuJIey"
      },
      "source": [
        " 5.print prime numbers up to specified limited."
      ]
    },
    {
      "cell_type": "code",
      "metadata": {
        "id": "yZDy-QtlJqIB",
        "outputId": "149d7af5-72ac-49d1-95d8-b9cba85b3fe9",
        "colab": {
          "base_uri": "https://localhost:8080/",
          "height": 314
        }
      },
      "source": [
        " \n",
        "lower = 30\n",
        "upper = 100\n",
        " \n",
        "print(\"Prime numbers between\", lower, \"and\", upper, \"are:\")\n",
        " \n",
        "for num in range(lower, upper + 1):\n",
        "   if num > 1:\n",
        "       for i in range(2, num):\n",
        "           if (num % i) == 0:\n",
        "               break\n",
        "       else:\n",
        "           print(num)"
      ],
      "execution_count": 9,
      "outputs": [
        {
          "output_type": "stream",
          "text": [
            "Prime numbers between 30 and 100 are:\n",
            "31\n",
            "37\n",
            "41\n",
            "43\n",
            "47\n",
            "53\n",
            "59\n",
            "61\n",
            "67\n",
            "71\n",
            "73\n",
            "79\n",
            "83\n",
            "89\n",
            "97\n"
          ],
          "name": "stdout"
        }
      ]
    },
    {
      "cell_type": "markdown",
      "metadata": {
        "id": "UjVB1Y9aJzKi"
      },
      "source": [
        " 6.find the sum of digits of a number is Armstrong number or not."
      ]
    },
    {
      "cell_type": "code",
      "metadata": {
        "id": "JcI6sdp5KGp5",
        "outputId": "8c38c46a-839b-434a-9865-e2763e671443",
        "colab": {
          "base_uri": "https://localhost:8080/",
          "height": 51
        }
      },
      "source": [
        "num = int(input(\"Enter a number: \"))  \n",
        "sum = 0  \n",
        "temp = num  \n",
        "  \n",
        "while temp > 0:  \n",
        "   digit = temp % 10  \n",
        "   sum += digit ** 3  \n",
        "   temp //= 10  \n",
        "  \n",
        "if num == sum:  \n",
        "   print(num,\"is an Armstrong number\")  \n",
        "else:  \n",
        "   print(num,\"is not an Armstrong \")"
      ],
      "execution_count": 11,
      "outputs": [
        {
          "output_type": "stream",
          "text": [
            "Enter a number: 121\n",
            "121 is not an Armstrong \n"
          ],
          "name": "stdout"
        }
      ]
    },
    {
      "cell_type": "markdown",
      "metadata": {
        "id": "Pq8maViIKal1"
      },
      "source": [
        "7.Swapping of two numbers"
      ]
    },
    {
      "cell_type": "code",
      "metadata": {
        "id": "H-oSwN_SKmAN",
        "outputId": "5cba3959-b86d-4227-90f2-2664a37ef1a0",
        "colab": {
          "base_uri": "https://localhost:8080/",
          "height": 112
        }
      },
      "source": [
        "x = input('Enter value of x: ')\n",
        "y = input('Enter value of y: ')\n",
        "# create a temporary variable and swap the values\n",
        "temp = x\n",
        "x = y\n",
        "y = temp\n",
        " \n",
        "print('The value of x after swapping: {}'.format(x))\n",
        "print('The value of y after swapping: {}'.format(y))"
      ],
      "execution_count": 13,
      "outputs": [
        {
          "output_type": "stream",
          "text": [
            "Enter value of x: 2\n",
            "Enter value of y: 4\n",
            "The value of x after swapping: 4\n",
            "The value of y after swapping: 2\n"
          ],
          "name": "stdout"
        }
      ]
    },
    {
      "cell_type": "markdown",
      "metadata": {
        "id": "HSsK5phkLJo2"
      },
      "source": [
        "8.perfrom all five arithmetic operator."
      ]
    },
    {
      "cell_type": "code",
      "metadata": {
        "id": "c5YBMxyXMmmt",
        "outputId": "20de38cc-5d89-470a-8f52-ddb5877ba7a6",
        "colab": {
          "base_uri": "https://localhost:8080/",
          "height": 167
        }
      },
      "source": [
        " \n",
        "x = float(input(\"enter a num : \"))\n",
        "y = float(input (\"enter a num : \"))\n",
        " \n",
        "print('x + y =',x+y)\n",
        " \n",
        " \n",
        "print('x - y =',x-y)\n",
        " \n",
        " \n",
        "print('x * y =',x*y)\n",
        " \n",
        " \n",
        "print('x / y =',x/y)\n",
        " \n",
        " \n",
        "print('x // y =',x//y)\n",
        " \n",
        "print('x ** y =',x**y)"
      ],
      "execution_count": 17,
      "outputs": [
        {
          "output_type": "stream",
          "text": [
            "enter a num : 2\n",
            "enter a num : 3\n",
            "x + y = 5.0\n",
            "x - y = -1.0\n",
            "x * y = 6.0\n",
            "x / y = 0.6666666666666666\n",
            "x // y = 0.0\n",
            "x ** y = 8.0\n"
          ],
          "name": "stdout"
        }
      ]
    }
  ]
}