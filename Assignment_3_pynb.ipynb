{
  "nbformat": 4,
  "nbformat_minor": 0,
  "metadata": {
    "colab": {
      "name": "Assignment 3.pynb",
      "provenance": [],
      "collapsed_sections": [],
      "authorship_tag": "ABX9TyPv1zAlKL4vqlcfo4OwVarQ",
      "include_colab_link": true
    },
    "kernelspec": {
      "name": "python3",
      "display_name": "Python 3"
    }
  },
  "cells": [
    {
      "cell_type": "markdown",
      "metadata": {
        "id": "view-in-github",
        "colab_type": "text"
      },
      "source": [
        "<a href=\"https://colab.research.google.com/github/Reethusree012/assignment-2-/blob/master/Assignment_3_pynb.ipynb\" target=\"_parent\"><img src=\"https://colab.research.google.com/assets/colab-badge.svg\" alt=\"Open In Colab\"/></a>"
      ]
    },
    {
      "cell_type": "markdown",
      "metadata": {
        "id": "9iWEq7dCA8MG",
        "colab_type": "text"
      },
      "source": [
        "1.Take two inputs user and check whether they are equal or not."
      ]
    },
    {
      "cell_type": "markdown",
      "metadata": {
        "id": "ui655y5x1kmc",
        "colab_type": "text"
      },
      "source": [
        ""
      ]
    },
    {
      "cell_type": "code",
      "metadata": {
        "id": "0aFzubwXBPsw",
        "colab_type": "code",
        "colab": {
          "base_uri": "https://localhost:8080/",
          "height": 69
        },
        "outputId": "099a7dff-92cd-4236-b012-e55d813bc064"
      },
      "source": [
        "a=int(input(\"enter the number\")) \n",
        "b=int(input(\"enter the number\")) \n",
        "if a==b:\n",
        " print(\"equal\") \n",
        "else:\n",
        " print(\"not equal\")"
      ],
      "execution_count": null,
      "outputs": [
        {
          "output_type": "stream",
          "text": [
            "enter the number12\n",
            "enter the number11\n",
            "not equal\n"
          ],
          "name": "stdout"
        }
      ]
    },
    {
      "cell_type": "markdown",
      "metadata": {
        "id": "OI8pM16ODJxT",
        "colab_type": "text"
      },
      "source": [
        "2.Take 3 inputs from user and check:\n",
        "         all are equal\n",
        "         any of two are equal"
      ]
    },
    {
      "cell_type": "code",
      "metadata": {
        "id": "F3faX1rQEDOG",
        "colab_type": "code",
        "colab": {
          "base_uri": "https://localhost:8080/",
          "height": 86
        },
        "outputId": "18fc8a00-ff6b-49dd-c311-bc2b46404df6"
      },
      "source": [
        "a=int(input(\"Enter the number\")) \n",
        "b=int(input(\"Enter the number\")) \n",
        "c=int(input(\"Enter the number\"))\n",
        "if a==b and b==c and c==a:\n",
        " print(\"all are equal\")\n",
        "elif a==b or b==c or c==a:\n",
        " print(\"any two are equal\") \n",
        "else:\n",
        " print(\"none are same\")"
      ],
      "execution_count": null,
      "outputs": [
        {
          "output_type": "stream",
          "text": [
            "Enter the number12\n",
            "Enter the number11\n",
            "Enter the number12\n",
            "any two are equal\n"
          ],
          "name": "stdout"
        }
      ]
    },
    {
      "cell_type": "markdown",
      "metadata": {
        "id": "YKmfl4uEZ2RY",
        "colab_type": "text"
      },
      "source": [
        "3.Take two number and check whether the sum is greater than 5,less than 5 or equal to 5."
      ]
    },
    {
      "cell_type": "code",
      "metadata": {
        "id": "NXmzhrvcaI90",
        "colab_type": "code",
        "colab": {
          "base_uri": "https://localhost:8080/",
          "height": 69
        },
        "outputId": "554ff6a4-f465-41a1-e952-39f7798a17e6"
      },
      "source": [
        "a=int(input(\"Enter the number\")) \n",
        "b=int(input(\"Enter the number\")) \n",
        "sum=a+b\n",
        "if sum>5:\n",
        " print(\"sum is greater than 5\")\n",
        "elif sum==5:\n",
        " print(\"equal to 5\") \n",
        "elif sum<5:\n",
        " print(\"sum is less than 5\") \n",
        "else:\n",
        " print(\"invalid\")"
      ],
      "execution_count": null,
      "outputs": [
        {
          "output_type": "stream",
          "text": [
            "Enter the number3\n",
            "Enter the number7\n",
            "sum is greater than 5\n"
          ],
          "name": "stdout"
        }
      ]
    },
    {
      "cell_type": "markdown",
      "metadata": {
        "id": "yhQ2dSIanK7u",
        "colab_type": "text"
      },
      "source": [
        "4.suppose passing marks of a subject is 35.Take input of marks from user and check whether it is greater than passing marks or not."
      ]
    },
    {
      "cell_type": "code",
      "metadata": {
        "id": "v-xVnoernr-e",
        "colab_type": "code",
        "colab": {
          "base_uri": "https://localhost:8080/",
          "height": 51
        },
        "outputId": "c2c6d6d3-6c12-4bd5-b62d-c27e9eb65fa1"
      },
      "source": [
        "marks=int(input (\"enter your marks\")) \n",
        "if marks>35:\n",
        " print(\"greater than passing marks\")\n",
        "else:\n",
        " print(\"fail\")"
      ],
      "execution_count": null,
      "outputs": [
        {
          "output_type": "stream",
          "text": [
            "enter your marks22\n",
            "fail\n"
          ],
          "name": "stdout"
        }
      ]
    },
    {
      "cell_type": "markdown",
      "metadata": {
        "id": "kNy8NCtkqMZn",
        "colab_type": "text"
      },
      "source": [
        "5.write a python function to find the max of three numbers."
      ]
    },
    {
      "cell_type": "code",
      "metadata": {
        "id": "oGwXdHJUqh81",
        "colab_type": "code",
        "colab": {
          "base_uri": "https://localhost:8080/",
          "height": 86
        },
        "outputId": "1b81207e-c2dd-4efd-c343-d31bca0a37b9"
      },
      "source": [
        "x=int(input(\"enter the num\")) \n",
        "y=int(input(\"enter the num\")) \n",
        "z=int(input(\"enter the num\")) \n",
        "if(x>=y) and (x>=z): \n",
        " print(\"x is largest\") \n",
        "elif(y>=x) and (y>=z):\n",
        " print(\"y is largest\") \n",
        "else:\n",
        " print(\"z is largest\")"
      ],
      "execution_count": null,
      "outputs": [
        {
          "output_type": "stream",
          "text": [
            "enter the num12\n",
            "enter the num22\n",
            "enter the num32\n",
            "z is largest\n"
          ],
          "name": "stdout"
        }
      ]
    },
    {
      "cell_type": "markdown",
      "metadata": {
        "id": "gnqowtK_1nHG",
        "colab_type": "text"
      },
      "source": [
        " How many time it will print Statment"
      ]
    },
    {
      "cell_type": "code",
      "metadata": {
        "id": "AEnXX0kx1ueK",
        "colab_type": "code",
        "colab": {
          "base_uri": "https://localhost:8080/",
          "height": 1000
        },
        "outputId": "c33f62e1-af66-4d8b-a195-b5335702ee8e"
      },
      "source": [
        "for i in range(100):\n",
        " print(i)"
      ],
      "execution_count": null,
      "outputs": [
        {
          "output_type": "stream",
          "text": [
            "0\n",
            "1\n",
            "2\n",
            "3\n",
            "4\n",
            "5\n",
            "6\n",
            "7\n",
            "8\n",
            "9\n",
            "10\n",
            "11\n",
            "12\n",
            "13\n",
            "14\n",
            "15\n",
            "16\n",
            "17\n",
            "18\n",
            "19\n",
            "20\n",
            "21\n",
            "22\n",
            "23\n",
            "24\n",
            "25\n",
            "26\n",
            "27\n",
            "28\n",
            "29\n",
            "30\n",
            "31\n",
            "32\n",
            "33\n",
            "34\n",
            "35\n",
            "36\n",
            "37\n",
            "38\n",
            "39\n",
            "40\n",
            "41\n",
            "42\n",
            "43\n",
            "44\n",
            "45\n",
            "46\n",
            "47\n",
            "48\n",
            "49\n",
            "50\n",
            "51\n",
            "52\n",
            "53\n",
            "54\n",
            "55\n",
            "56\n",
            "57\n",
            "58\n",
            "59\n",
            "60\n",
            "61\n",
            "62\n",
            "63\n",
            "64\n",
            "65\n",
            "66\n",
            "67\n",
            "68\n",
            "69\n",
            "70\n",
            "71\n",
            "72\n",
            "73\n",
            "74\n",
            "75\n",
            "76\n",
            "77\n",
            "78\n",
            "79\n",
            "80\n",
            "81\n",
            "82\n",
            "83\n",
            "84\n",
            "85\n",
            "86\n",
            "87\n",
            "88\n",
            "89\n",
            "90\n",
            "91\n",
            "92\n",
            "93\n",
            "94\n",
            "95\n",
            "96\n",
            "97\n",
            "98\n",
            "99\n"
          ],
          "name": "stdout"
        }
      ]
    }
  ]
}