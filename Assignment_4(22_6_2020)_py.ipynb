{
  "nbformat": 4,
  "nbformat_minor": 0,
  "metadata": {
    "colab": {
      "name": "Assignment 4(22-6-2020).py",
      "provenance": [],
      "collapsed_sections": [],
      "authorship_tag": "ABX9TyNQuW0/+sJhXFNJ1oKeXQqE",
      "include_colab_link": true
    },
    "kernelspec": {
      "name": "python3",
      "display_name": "Python 3"
    }
  },
  "cells": [
    {
      "cell_type": "markdown",
      "metadata": {
        "id": "view-in-github",
        "colab_type": "text"
      },
      "source": [
        "<a href=\"https://colab.research.google.com/github/Reethusree012/assignment-2-/blob/master/Assignment_4(22_6_2020)_py.ipynb\" target=\"_parent\"><img src=\"https://colab.research.google.com/assets/colab-badge.svg\" alt=\"Open In Colab\"/></a>"
      ]
    },
    {
      "cell_type": "markdown",
      "metadata": {
        "id": "SctKXdWKoAky",
        "colab_type": "text"
      },
      "source": [
        "1.write a python program to find maximum of three numbers."
      ]
    },
    {
      "cell_type": "code",
      "metadata": {
        "id": "FOKBzAfkoWMA",
        "colab_type": "code",
        "colab": {
          "base_uri": "https://localhost:8080/",
          "height": 86
        },
        "outputId": "1a6506f2-bf9e-4e4a-85dc-b980dd487b89"
      },
      "source": [
        "a=int(input(\"Enter the a value\")) \n",
        "b=int(input(\"Enter the b value\")) \n",
        "c=int(input(\"Enter the c value\"))\n",
        "if (a>b) and (a>c):\n",
        " print(\"a is maximum\") \n",
        "elif (b>c) or(b>a):\n",
        " print(\"b is maximum\") \n",
        "else:\n",
        " print(\"c is maximum\")"
      ],
      "execution_count": null,
      "outputs": [
        {
          "output_type": "stream",
          "text": [
            "Enter the a value12\n",
            "Enter the b value15\n",
            "Enter the c value2\n",
            "b is maximum\n"
          ],
          "name": "stdout"
        }
      ]
    },
    {
      "cell_type": "markdown",
      "metadata": {
        "id": "27DzKKOgtJq3",
        "colab_type": "text"
      },
      "source": [
        " 2.write a python program to reverse a string."
      ]
    },
    {
      "cell_type": "code",
      "metadata": {
        "id": "b1goXMf4unnl",
        "colab_type": "code",
        "colab": {
          "base_uri": "https://localhost:8080/",
          "height": 34
        },
        "outputId": "e12a0c38-280d-4d87-f598-4618a922ad36"
      },
      "source": [
        "txt=\"hello everyone\"[::-1]\n",
        "print(txt)"
      ],
      "execution_count": null,
      "outputs": [
        {
          "output_type": "stream",
          "text": [
            "enoyreve olleh\n"
          ],
          "name": "stdout"
        }
      ]
    },
    {
      "cell_type": "markdown",
      "metadata": {
        "id": "NP8XZ3fpvbrT",
        "colab_type": "text"
      },
      "source": [
        " 3.write a python program to check whether the number is prime or not"
      ]
    },
    {
      "cell_type": "code",
      "metadata": {
        "id": "X1teDTFKv0q6",
        "colab_type": "code",
        "colab": {
          "base_uri": "https://localhost:8080/",
          "height": 51
        },
        "outputId": "c096d38e-6ce6-4a2e-fa40-e53ebeac0f90"
      },
      "source": [
        "num=int(input(\"Enter the number\"))\n",
        "if num >1:\n",
        "  for i in range (2, num):\n",
        "    if(num % i) == 0:\n",
        "       print(num,\" is not a prime number\")\n",
        "       break\n",
        "  else:\n",
        "     print(num,\" is a prime number\")"
      ],
      "execution_count": null,
      "outputs": [
        {
          "output_type": "stream",
          "text": [
            "Enter the number17\n",
            "17  is a prime number\n"
          ],
          "name": "stdout"
        }
      ]
    },
    {
      "cell_type": "markdown",
      "metadata": {
        "id": "aHm-oaGI_A1f",
        "colab_type": "text"
      },
      "source": [
        "\n",
        "4.write a python function to find sum of square of first n natural numbers"
      ]
    },
    {
      "cell_type": "code",
      "metadata": {
        "id": "4GPCKKuX1oL0",
        "colab_type": "code",
        "colab": {}
      },
      "source": [
        "def squaresum(n):\n",
        " sm=0\n",
        " for i in range (1, n+1) :\n",
        "  sm = sm+(i * i)\n",
        " return sm"
      ],
      "execution_count": 7,
      "outputs": []
    },
    {
      "cell_type": "code",
      "metadata": {
        "id": "6SV8DrWo_Ndw",
        "colab_type": "code",
        "colab": {
          "base_uri": "https://localhost:8080/",
          "height": 34
        },
        "outputId": "884f6ef3-1a62-4165-a615-9747eb12623a"
      },
      "source": [
        "n=5\n",
        "print(squaresum(n))"
      ],
      "execution_count": 9,
      "outputs": [
        {
          "output_type": "stream",
          "text": [
            "55\n"
          ],
          "name": "stdout"
        }
      ]
    }
  ]
}